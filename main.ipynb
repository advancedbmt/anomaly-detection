{
 "cells": [
  {
   "cell_type": "code",
   "execution_count": 7,
   "id": "d65bef75",
   "metadata": {},
   "outputs": [
    {
     "name": "stdout",
     "output_type": "stream",
     "text": [
      "Status: 200\n",
      "Output path: {\"message\":\"Anomaly Detection completed successfully\",\"output_path\":\"motor_monitor_anomalies_output.json\",\"timestamp\":\"2025-07-04T21:08:03.181878\"}\n"
     ]
    }
   ],
   "source": [
    "\n",
    "# 1. Service test orchestration (example)\n",
    "from requests import post, get\n",
    "import json\n",
    "\n",
    "# Prepare test request\n",
    "request_data = {\n",
    "  \"csv_path\": \"storage/train_data/devices_data_demo/motor_monitor_0_unified.csv\",\n",
    "  \"device_type\": \"motor_monitor\"\n",
    "}\n",
    "\n",
    "# Call the FastAPI endpoint (make sure container is running and port 8001 exposed)\n",
    "response = post(\"http://localhost:8001/run_ad\", json=request_data)\n",
    "print(\"Status:\", response.status_code)\n",
    "print(\"Output path:\", response.text)\n"
   ]
  },
  {
   "cell_type": "code",
   "execution_count": 9,
   "id": "21dc98fa",
   "metadata": {},
   "outputs": [
    {
     "name": "stdout",
     "output_type": "stream",
     "text": [
      "Health: 200 {'status': 'healthy', 'timestamp': '2025-07-04T21:09:03.604221', 'version': '1.0.0'}\n"
     ]
    }
   ],
   "source": [
    "\n",
    "# 2. Health check test\n",
    "health = get(\"http://localhost:8001/health\")\n",
    "print(\"Health:\", health.status_code, health.json())\n"
   ]
  },
  {
   "cell_type": "code",
   "execution_count": null,
   "id": "9b9712a2",
   "metadata": {},
   "outputs": [
    {
     "name": "stdout",
     "output_type": "stream",
     "text": [
      "Testing bale_counter\n",
      "Status: 200\n",
      "Result: {\"message\":\"Anomaly Detection completed successfully\",\"output_path\":\"bale_counter_anomalies_output.json\",\"timestamp\":\"2025-07-04T21:22:06.722328\"}\n",
      "Testing output_sensor\n",
      "Status: 500\n",
      "Result: {\"detail\":\"No state segments were processed\"}\n",
      "Testing temperature_sensor\n",
      "Status: 200\n",
      "Result: {\"message\":\"Anomaly Detection completed successfully\",\"output_path\":\"temperature_sensor_anomalies_output.json\",\"timestamp\":\"2025-07-04T21:22:13.875071\"}\n"
     ]
    }
   ],
   "source": [
    "# 3. Try additional device types\n",
    "examples = [\n",
    "    {\n",
    "        \"csv_path\": \"storage/train_data/devices_data_demo/bale_counter_0_unified.csv\",\n",
    "        \"device_type\": \"bale_counter\"\n",
    "    },\n",
    "   \n",
    "    {\n",
    "        \"csv_path\": \"storage/train_data/devices_data_demo/temperature_sensor_0_unified.csv\",\n",
    "        \"device_type\": \"temperature_sensor\"\n",
    "    }\n",
    "]\n",
    "\n",
    "for example in examples:\n",
    "    print(f\"Testing {example['device_type']}\")\n",
    "    res = post(\"http://localhost:8001/run_ad\", json=example)  # ✅ fixed endpoint\n",
    "    print(\"Status:\", res.status_code)\n",
    "    print(\"Result:\", res.text)\n"
   ]
  },
  {
   "cell_type": "code",
   "execution_count": null,
   "id": "29b61b09",
   "metadata": {},
   "outputs": [],
   "source": []
  }
 ],
 "metadata": {
  "kernelspec": {
   "display_name": ".venv",
   "language": "python",
   "name": "python3"
  },
  "language_info": {
   "codemirror_mode": {
    "name": "ipython",
    "version": 3
   },
   "file_extension": ".py",
   "mimetype": "text/x-python",
   "name": "python",
   "nbconvert_exporter": "python",
   "pygments_lexer": "ipython3",
   "version": "3.11.1"
  }
 },
 "nbformat": 4,
 "nbformat_minor": 5
}
