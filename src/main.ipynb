{
 "cells": [
  {
   "cell_type": "code",
   "execution_count": 11,
   "id": "04f11842",
   "metadata": {},
   "outputs": [],
   "source": [
    "#load pip libraries\n",
    "import numpy as np\n",
    "import pandas as pd\n",
    "import matplotlib.pyplot as plt\n",
    "import skmultiflow as sci_flow\n",
    "from skmultiflow.trees import HoeffdingTreeClassifier\n",
    "from skmultiflow.evaluation import EvaluatePrequential\n",
    "from datetime import datetime\n",
    "import time\n",
    "\n",
    "#load custom libraries\n",
    "from funcs.IoTDevice import IoTDevice\n",
    "import funcs.json_process as json_process\n",
    "import funcs.generate_state_data as generate_state_data"
   ]
  },
  {
   "cell_type": "code",
   "execution_count": 12,
   "id": "cea5b044",
   "metadata": {},
   "outputs": [
    {
     "name": "stdout",
     "output_type": "stream",
     "text": [
      "[('00:00', 'off'), ('01:30', 'idle'), ('02:00', 'run'), ('08:00', 'off'), ('09:00', 'idle'), ('09:30', 'run'), ('09:45', 'idle'), ('10:00', 'run'), ('17:00', 'idle'), ('17:30', 'run'), ('23:59', 'run')]\n"
     ]
    }
   ],
   "source": [
    "#creating the test device and loading the json file\n",
    "test_temp_device = IoTDevice()\n",
    "test_json_path = \"../json_file/basic_config.json\"\n",
    "\n",
    "test_temp_device.load_json(test_json_path)\n",
    "\n",
    "#getting the value for ambient temperature calculation\n",
    "ambient_temp = test_temp_device.get_device_attribute(\"ambientTemperature\")\n",
    "min_inc = test_temp_device.get_device_attribute(\"tag_list\")[\"temperatureSensor1\"][\"states\"][\"run\"]['minIncrease']\n",
    "max_inc = test_temp_device.get_device_attribute(\"tag_list\")[\"temperatureSensor1\"][\"states\"][\"run\"]['maxIncrease']\n",
    "tag_list = test_temp_device.get_device_attribute(\"tag_list\")\n",
    "run_state = test_temp_device.get_synthesis_parameter(\"mode\")\n",
    "synth_schedule = test_temp_device.get_synthesis_parameter(\"batch\")\n",
    "parsed_schedule = generate_state_data.parse_state_timeline(synth_schedule)\n",
    "\n",
    "#get the location for anomoly injection\n",
    "anomoly_injection = test_temp_device.get_synthesis_parameter(\"customAnomaly\")\n",
    "\n",
    "#get the state\n",
    "sensor_state = [json_process.parse_entry(entry) for entry in test_temp_device.get_synthesis_parameter(\"batch\")]\n",
    "print(sensor_state)\n",
    "\n",
    "\n"
   ]
  },
  {
   "cell_type": "code",
   "execution_count": 13,
   "id": "372e6f5a",
   "metadata": {},
   "outputs": [],
   "source": [
    "\n",
    "\n",
    "# 1. Create a stream\n",
    "stream = sci_flow.data.SEAGenerator(random_state=42)\n",
    "stream.restart()\n",
    "dfs = []\n",
    "\n",
    "for sensor_name, config in tag_list.items():\n",
    "    state_ranges = {\n",
    "        state.lower(): (val[\"minIncrease\"], val[\"maxIncrease\"])\n",
    "        for state, val in config[\"states\"].items()\n",
    "    }\n",
    "    df = generate_state_data.generate_state_based_data(parsed_schedule, state_ranges, ambient_temp)\n",
    "    for anomaly in anomoly_injection:\n",
    "        json_process.inject_anomaly_by_time(df, anomaly)\n",
    "    df[\"sensor\"] = sensor_name\n",
    "    dfs.append(df)\n",
    "\n",
    "combined_df = pd.concat(dfs, ignore_index=True)"
   ]
  },
  {
   "cell_type": "code",
   "execution_count": null,
   "id": "97b389d6",
   "metadata": {},
   "outputs": [
    {
     "name": "stdout",
     "output_type": "stream",
     "text": [
      "{'timestamp': Timestamp('2025-04-07 00:00:00'), 'feature_0': 20.0, 'state': 'off', 'is_anomaly': False, 'sensor': 'temperatureSensor1'}\n",
      "{'timestamp': Timestamp('2025-04-07 00:00:00'), 'feature_0': 20.0, 'state': 'off', 'is_anomaly': False, 'sensor': 'temperatureSensor2'}\n",
      "{'timestamp': Timestamp('2025-04-07 00:00:00'), 'feature_0': 20.0, 'state': 'off', 'is_anomaly': False, 'sensor': 'temperatureSensor3'}\n",
      "{'timestamp': Timestamp('2025-04-07 00:00:00'), 'feature_0': 20.0, 'state': 'off', 'is_anomaly': False, 'sensor': 'temperatureSensor4'}\n",
      "{'timestamp': Timestamp('2025-04-07 00:01:00'), 'feature_0': 20.0, 'state': 'off', 'is_anomaly': False, 'sensor': 'temperatureSensor1'}\n",
      "{'timestamp': Timestamp('2025-04-07 00:01:00'), 'feature_0': 20.0, 'state': 'off', 'is_anomaly': False, 'sensor': 'temperatureSensor2'}\n",
      "{'timestamp': Timestamp('2025-04-07 00:01:00'), 'feature_0': 20.0, 'state': 'off', 'is_anomaly': False, 'sensor': 'temperatureSensor3'}\n",
      "{'timestamp': Timestamp('2025-04-07 00:01:00'), 'feature_0': 20.0, 'state': 'off', 'is_anomaly': False, 'sensor': 'temperatureSensor4'}\n",
      "{'timestamp': Timestamp('2025-04-07 00:02:00'), 'feature_0': 20.0, 'state': 'off', 'is_anomaly': False, 'sensor': 'temperatureSensor1'}\n",
      "{'timestamp': Timestamp('2025-04-07 00:02:00'), 'feature_0': 20.0, 'state': 'off', 'is_anomaly': False, 'sensor': 'temperatureSensor2'}\n",
      "{'timestamp': Timestamp('2025-04-07 00:02:00'), 'feature_0': 20.0, 'state': 'off', 'is_anomaly': False, 'sensor': 'temperatureSensor3'}\n",
      "{'timestamp': Timestamp('2025-04-07 00:02:00'), 'feature_0': 20.0, 'state': 'off', 'is_anomaly': False, 'sensor': 'temperatureSensor4'}\n",
      "{'timestamp': Timestamp('2025-04-07 00:03:00'), 'feature_0': 20.0, 'state': 'off', 'is_anomaly': False, 'sensor': 'temperatureSensor1'}\n",
      "{'timestamp': Timestamp('2025-04-07 00:03:00'), 'feature_0': 20.0, 'state': 'off', 'is_anomaly': False, 'sensor': 'temperatureSensor2'}\n",
      "{'timestamp': Timestamp('2025-04-07 00:03:00'), 'feature_0': 20.0, 'state': 'off', 'is_anomaly': False, 'sensor': 'temperatureSensor3'}\n",
      "{'timestamp': Timestamp('2025-04-07 00:03:00'), 'feature_0': 20.0, 'state': 'off', 'is_anomaly': False, 'sensor': 'temperatureSensor4'}\n",
      "{'timestamp': Timestamp('2025-04-07 00:04:00'), 'feature_0': 20.0, 'state': 'off', 'is_anomaly': False, 'sensor': 'temperatureSensor1'}\n",
      "{'timestamp': Timestamp('2025-04-07 00:04:00'), 'feature_0': 20.0, 'state': 'off', 'is_anomaly': False, 'sensor': 'temperatureSensor2'}\n",
      "{'timestamp': Timestamp('2025-04-07 00:04:00'), 'feature_0': 20.0, 'state': 'off', 'is_anomaly': False, 'sensor': 'temperatureSensor3'}\n",
      "{'timestamp': Timestamp('2025-04-07 00:04:00'), 'feature_0': 20.0, 'state': 'off', 'is_anomaly': False, 'sensor': 'temperatureSensor4'}\n",
      "{'timestamp': Timestamp('2025-04-07 00:05:00'), 'feature_0': 20.0, 'state': 'off', 'is_anomaly': False, 'sensor': 'temperatureSensor1'}\n",
      "{'timestamp': Timestamp('2025-04-07 00:05:00'), 'feature_0': 20.0, 'state': 'off', 'is_anomaly': False, 'sensor': 'temperatureSensor2'}\n",
      "{'timestamp': Timestamp('2025-04-07 00:05:00'), 'feature_0': 20.0, 'state': 'off', 'is_anomaly': False, 'sensor': 'temperatureSensor3'}\n",
      "{'timestamp': Timestamp('2025-04-07 00:05:00'), 'feature_0': 20.0, 'state': 'off', 'is_anomaly': False, 'sensor': 'temperatureSensor4'}\n",
      "{'timestamp': Timestamp('2025-04-07 00:06:00'), 'feature_0': 20.0, 'state': 'off', 'is_anomaly': False, 'sensor': 'temperatureSensor1'}\n",
      "{'timestamp': Timestamp('2025-04-07 00:06:00'), 'feature_0': 20.0, 'state': 'off', 'is_anomaly': False, 'sensor': 'temperatureSensor2'}\n",
      "{'timestamp': Timestamp('2025-04-07 00:06:00'), 'feature_0': 20.0, 'state': 'off', 'is_anomaly': False, 'sensor': 'temperatureSensor3'}\n",
      "{'timestamp': Timestamp('2025-04-07 00:06:00'), 'feature_0': 20.0, 'state': 'off', 'is_anomaly': False, 'sensor': 'temperatureSensor4'}\n",
      "{'timestamp': Timestamp('2025-04-07 00:07:00'), 'feature_0': 20.0, 'state': 'off', 'is_anomaly': False, 'sensor': 'temperatureSensor1'}\n",
      "{'timestamp': Timestamp('2025-04-07 00:07:00'), 'feature_0': 20.0, 'state': 'off', 'is_anomaly': False, 'sensor': 'temperatureSensor2'}\n",
      "{'timestamp': Timestamp('2025-04-07 00:07:00'), 'feature_0': 20.0, 'state': 'off', 'is_anomaly': False, 'sensor': 'temperatureSensor3'}\n",
      "{'timestamp': Timestamp('2025-04-07 00:07:00'), 'feature_0': 20.0, 'state': 'off', 'is_anomaly': False, 'sensor': 'temperatureSensor4'}\n",
      "{'timestamp': Timestamp('2025-04-07 00:08:00'), 'feature_0': 20.0, 'state': 'off', 'is_anomaly': False, 'sensor': 'temperatureSensor1'}\n",
      "{'timestamp': Timestamp('2025-04-07 00:08:00'), 'feature_0': 20.0, 'state': 'off', 'is_anomaly': False, 'sensor': 'temperatureSensor2'}\n",
      "{'timestamp': Timestamp('2025-04-07 00:08:00'), 'feature_0': 20.0, 'state': 'off', 'is_anomaly': False, 'sensor': 'temperatureSensor3'}\n",
      "{'timestamp': Timestamp('2025-04-07 00:08:00'), 'feature_0': 20.0, 'state': 'off', 'is_anomaly': False, 'sensor': 'temperatureSensor4'}\n",
      "{'timestamp': Timestamp('2025-04-07 00:09:00'), 'feature_0': 20.0, 'state': 'off', 'is_anomaly': False, 'sensor': 'temperatureSensor1'}\n",
      "{'timestamp': Timestamp('2025-04-07 00:09:00'), 'feature_0': 20.0, 'state': 'off', 'is_anomaly': False, 'sensor': 'temperatureSensor2'}\n",
      "{'timestamp': Timestamp('2025-04-07 00:09:00'), 'feature_0': 20.0, 'state': 'off', 'is_anomaly': False, 'sensor': 'temperatureSensor3'}\n",
      "{'timestamp': Timestamp('2025-04-07 00:09:00'), 'feature_0': 20.0, 'state': 'off', 'is_anomaly': False, 'sensor': 'temperatureSensor4'}\n",
      "{'timestamp': Timestamp('2025-04-07 00:10:00'), 'feature_0': 20.0, 'state': 'off', 'is_anomaly': False, 'sensor': 'temperatureSensor1'}\n",
      "{'timestamp': Timestamp('2025-04-07 00:10:00'), 'feature_0': 20.0, 'state': 'off', 'is_anomaly': False, 'sensor': 'temperatureSensor2'}\n",
      "{'timestamp': Timestamp('2025-04-07 00:10:00'), 'feature_0': 20.0, 'state': 'off', 'is_anomaly': False, 'sensor': 'temperatureSensor3'}\n",
      "{'timestamp': Timestamp('2025-04-07 00:10:00'), 'feature_0': 20.0, 'state': 'off', 'is_anomaly': False, 'sensor': 'temperatureSensor4'}\n"
     ]
    },
    {
     "ename": "KeyboardInterrupt",
     "evalue": "",
     "output_type": "error",
     "traceback": [
      "\u001b[1;31m---------------------------------------------------------------------------\u001b[0m",
      "\u001b[1;31mKeyboardInterrupt\u001b[0m                         Traceback (most recent call last)",
      "Cell \u001b[1;32mIn[15], line 30\u001b[0m\n\u001b[0;32m     28\u001b[0m \u001b[38;5;28;01mfor\u001b[39;00m df \u001b[38;5;129;01min\u001b[39;00m dfs:\n\u001b[0;32m     29\u001b[0m     \u001b[38;5;28mprint\u001b[39m(df\u001b[38;5;241m.\u001b[39miloc[i]\u001b[38;5;241m.\u001b[39mto_dict())\n\u001b[1;32m---> 30\u001b[0m \u001b[43mtime\u001b[49m\u001b[38;5;241;43m.\u001b[39;49m\u001b[43msleep\u001b[49m\u001b[43m(\u001b[49m\u001b[38;5;241;43m1\u001b[39;49m\u001b[43m)\u001b[49m  \u001b[38;5;66;03m# Simulate one batch per second (1 row per sensor)\u001b[39;00m\n",
      "\u001b[1;31mKeyboardInterrupt\u001b[0m: "
     ]
    }
   ],
   "source": [
    "#for switching between batch and stream mode, change the \"mode\" under \"synth_detial\" in the json file\n",
    "\n",
    "# the batch mode\n",
    "if (test_temp_device.get_synthesis_parameter(\"mode\") == \"batch\"):\n",
    "    plt.figure(figsize=(12, 6))\n",
    "\n",
    "    for df in dfs:\n",
    "        sensor_name = df[\"sensor\"].iloc[0] if \"sensor\" in df else \"Unknown Sensor\"\n",
    "        plt.plot(df['timestamp'].to_numpy(), df['feature_0'].to_numpy(), label=sensor_name)\n",
    "\n",
    "    plt.title(\"Temperature Readings from All Sensors\")\n",
    "    plt.xlabel(\"Time\")\n",
    "    plt.ylabel(\"Temperature (Celsius)\")\n",
    "    plt.legend()\n",
    "    plt.grid(True)\n",
    "    plt.tight_layout()\n",
    "    plt.show()\n",
    "\n",
    "    # 5. Export to CSV\n",
    "    combined_df.to_csv(\"test_temp.csv\", index=False)\n",
    "\n",
    "    print(\"✅ Exported to test_temp.csv\")\n",
    "\n",
    "# the stream mode\n",
    "# will send the data one at a time\n",
    "elif (test_temp_device.get_synthesis_parameter(\"mode\") == \"stream\"):\n",
    "    stream_length = min(len(df) for df in dfs)  # assume same length\n",
    "\n",
    "    for i in range(stream_length):\n",
    "        for df in dfs:\n",
    "            print(df.iloc[i].to_dict())\n",
    "        time.sleep(1)  # Simulate one batch per second (1 row per sensor)"
   ]
  }
 ],
 "metadata": {
  "kernelspec": {
   "display_name": "abmt_synth_data",
   "language": "python",
   "name": "python3"
  },
  "language_info": {
   "codemirror_mode": {
    "name": "ipython",
    "version": 3
   },
   "file_extension": ".py",
   "mimetype": "text/x-python",
   "name": "python",
   "nbconvert_exporter": "python",
   "pygments_lexer": "ipython3",
   "version": "3.8.20"
  }
 },
 "nbformat": 4,
 "nbformat_minor": 5
}
