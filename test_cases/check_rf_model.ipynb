{
 "cells": [
  {
   "cell_type": "code",
   "execution_count": 1,
   "id": "b1aba626",
   "metadata": {},
   "outputs": [
    {
     "name": "stdout",
     "output_type": "stream",
     "text": [
      "✅ Loaded Random Forest Model!\n",
      "🌟 Expected Input Features: ['temperatureSensor1', 'state_idle', 'state_off', 'state_run']\n",
      "🌳 Number of Trees in RF: 100\n",
      "📈 Model Classes: ['Normal']\n",
      "🔍 Model was trained on 4 features\n"
     ]
    }
   ],
   "source": [
    "import joblib\n",
    "\n",
    "# Load RF model\n",
    "rf_path = \"../test_cases/saved_models/random_forest_temperature_sensor.pkl\"\n",
    "rf_package = joblib.load(rf_path)\n",
    "\n",
    "rf_model = rf_package[\"model\"]\n",
    "rf_features = rf_package[\"feature_names\"]\n",
    "\n",
    "print(f\"✅ Loaded Random Forest Model!\")\n",
    "print(f\"🌟 Expected Input Features: {rf_features}\")\n",
    "print(f\"🌳 Number of Trees in RF: {rf_model.n_estimators}\")\n",
    "print(f\"📈 Model Classes: {rf_model.classes_}\")\n",
    "print(f\"🔍 Model was trained on {rf_model.n_features_in_} features\")\n"
   ]
  },
  {
   "cell_type": "code",
   "execution_count": 5,
   "id": "b9dd40f6",
   "metadata": {},
   "outputs": [
    {
     "name": "stdout",
     "output_type": "stream",
     "text": [
      "✅ Injected 402 strong synthetic anomalies!\n",
      "✅ New Random Forest model saved to ../test_cases/saved_models/random_forest_temperature_sensor.pkl\n"
     ]
    }
   ],
   "source": [
    "import pandas as pd\n",
    "import numpy as np\n",
    "from sklearn.ensemble import RandomForestClassifier\n",
    "from sklearn.model_selection import train_test_split\n",
    "import joblib\n",
    "import os\n",
    "\n",
    "# Paths\n",
    "DATA_PATH = \"../src/devices_data/temperature_sensor_0_unified.csv\"\n",
    "SAVE_PATH = \"../test_cases/saved_models/random_forest_temperature_sensor.pkl\"\n",
    "\n",
    "# Load original data\n",
    "df = pd.read_csv(DATA_PATH)\n",
    "df['timestamp'] = pd.to_datetime(df['timestamp'])\n",
    "\n",
    "# Select features\n",
    "features = ['temperatureSensor1']\n",
    "state_dummies = pd.get_dummies(df['state'], prefix='state')\n",
    "df = pd.concat([df, state_dummies], axis=1)\n",
    "all_features = features + list(state_dummies.columns)\n",
    "\n",
    "# Inject stronger synthetic anomalies (2% of data)\n",
    "np.random.seed(42)  # reproducible\n",
    "anomaly_indices = np.random.choice(df.index, size=int(len(df) * 0.02), replace=False)\n",
    "df['label'] = 'Normal'\n",
    "df.loc[anomaly_indices, 'temperatureSensor1'] += np.random.uniform(80, 150, size=len(anomaly_indices))  # much bigger spikes\n",
    "df.loc[anomaly_indices, 'label'] = 'Anomaly'\n",
    "\n",
    "print(f\"✅ Injected {len(anomaly_indices)} strong synthetic anomalies!\")\n",
    "\n",
    "# Train RF model\n",
    "X = df[all_features]\n",
    "y = df['label']\n",
    "\n",
    "X_train, X_test, y_train, y_test = train_test_split(X, y, test_size=0.2, random_state=42)\n",
    "\n",
    "rf = RandomForestClassifier(n_estimators=100, random_state=42)\n",
    "rf.fit(X_train, y_train)\n",
    "\n",
    "# Save model\n",
    "rf_package = {\n",
    "    \"model\": rf,\n",
    "    \"feature_names\": all_features\n",
    "}\n",
    "os.makedirs(os.path.dirname(SAVE_PATH), exist_ok=True)\n",
    "joblib.dump(rf_package, SAVE_PATH)\n",
    "print(f\"✅ New Random Forest model saved to {SAVE_PATH}\")\n"
   ]
  }
 ],
 "metadata": {
  "kernelspec": {
   "display_name": "base",
   "language": "python",
   "name": "python3"
  },
  "language_info": {
   "codemirror_mode": {
    "name": "ipython",
    "version": 3
   },
   "file_extension": ".py",
   "mimetype": "text/x-python",
   "name": "python",
   "nbconvert_exporter": "python",
   "pygments_lexer": "ipython3",
   "version": "3.9.12"
  }
 },
 "nbformat": 4,
 "nbformat_minor": 5
}
