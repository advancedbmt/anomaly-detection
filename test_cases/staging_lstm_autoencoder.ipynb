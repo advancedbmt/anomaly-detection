{
 "cells": [
  {
   "cell_type": "markdown",
   "id": "e4da7e25",
   "metadata": {},
   "source": [
    "##  Imports "
   ]
  },
  {
   "cell_type": "code",
   "execution_count": 87,
   "id": "465b1616",
   "metadata": {},
   "outputs": [],
   "source": [
    "import pandas as pd\n",
    "import numpy as np\n",
    "from sklearn.preprocessing import MinMaxScaler\n",
    "from tensorflow.keras.models import Sequential\n",
    "from tensorflow.keras.layers import LSTM, RepeatVector, TimeDistributed, Dense\n",
    "from tensorflow.keras.optimizers import Adam\n",
    "import matplotlib.pyplot as plt"
   ]
  },
  {
   "cell_type": "markdown",
   "id": "7f385457",
   "metadata": {},
   "source": [
    "##  1. CSV setup "
   ]
  },
  {
   "cell_type": "code",
   "execution_count": 88,
   "id": "04bace0f",
   "metadata": {},
   "outputs": [],
   "source": [
    "# Load files\n",
    "temp_df = pd.read_csv('../test_csv/motor_temp_high.csv')\n",
    "power_df = pd.read_csv('../test_csv/motor_power_high.csv')\n",
    "rpm_df   = pd.read_csv('../test_csv/motor_rpm_high.csv')\n",
    "vib_df   = pd.read_csv('../test_csv/motor_viberation_high.csv')\n",
    "\n",
    "# Parse timestamps\n",
    "for df in [temp_df, power_df, rpm_df, vib_df]:\n",
    "    df['timestamp'] = pd.to_datetime(df['timestamp'])\n",
    "\n",
    "# Rename columns\n",
    "temp_df = temp_df.rename(columns={'feature_0': 'temperature'})\n",
    "power_df = power_df.rename(columns={'feature_0': 'power'})\n",
    "rpm_df = rpm_df.rename(columns={'feature_0': 'rpm'})\n",
    "vib_df = vib_df.rename(columns={'feature_0': 'vibration'})\n",
    "\n",
    "# Merge on timestamp\n",
    "df_merged = temp_df[['timestamp', 'state', 'temperature']]\\\n",
    "    .merge(power_df[['timestamp', 'power']], on='timestamp')\\\n",
    "    .merge(rpm_df[['timestamp', 'rpm']], on='timestamp')\\\n",
    "    .merge(vib_df[['timestamp', 'vibration']], on='timestamp')\n",
    "\n",
    "df_merged['csv_index'] = df_merged.index\n",
    "\n",
    "# 2️⃣ Filter for 'run' state\n",
    "df_run = df_merged[df_merged['state'] == 'run'].copy()\n",
    "feature_cols = ['temperature', 'power', 'rpm', 'vibration']\n",
    "index_ref = df_run['csv_index'].values"
   ]
  },
  {
   "cell_type": "code",
   "execution_count": 89,
   "id": "2ec5f371",
   "metadata": {},
   "outputs": [
    {
     "name": "stdout",
     "output_type": "stream",
     "text": [
      "✅ Final split:\n",
      "Train sequences: (800, 20, 4), from 30720 → 31538\n",
      "Test  sequences: (302284, 20, 4), from 31520 → 368382\n"
     ]
    }
   ],
   "source": [
    "# 3️⃣ Normalize\n",
    "scaler = MinMaxScaler()\n",
    "scaled_features = scaler.fit_transform(df_run[feature_cols])\n",
    "\n",
    "# 4️⃣ Create sequences\n",
    "def create_multisensor_sequences(data, index_ref, window=20):\n",
    "    sequences, start_indices, end_indices = [], [], []\n",
    "    for i in range(len(data) - window):\n",
    "        sequences.append(data[i:i+window])\n",
    "        start_indices.append(index_ref[i])\n",
    "        end_indices.append(index_ref[i + window - 1])\n",
    "    return np.array(sequences), start_indices, end_indices\n",
    "\n",
    "seq_len = 20\n",
    "X_all, start_all, end_all = create_multisensor_sequences(scaled_features, index_ref, seq_len)\n",
    "\n",
    "# 5️⃣ Split into clean training and test (based on csv_index)\n",
    "cutoff_index = 800  # Choose an early window (assumed clean)\n",
    "X_train = X_all[:cutoff_index]\n",
    "X_test  = X_all[cutoff_index:]\n",
    "start_train = start_all[:cutoff_index]\n",
    "end_train   = end_all[:cutoff_index]\n",
    "start_test  = start_all[cutoff_index:]\n",
    "end_test    = end_all[cutoff_index:]\n",
    "\n",
    "print(f\"✅ Final split:\")\n",
    "print(f\"Train sequences: {X_train.shape}, from {start_train[0]} → {end_train[-1]}\")\n",
    "print(f\"Test  sequences: {X_test.shape}, from {start_test[0]} → {end_test[-1]}\")\n"
   ]
  },
  {
   "cell_type": "code",
   "execution_count": 90,
   "id": "1dc11757",
   "metadata": {},
   "outputs": [
    {
     "name": "stdout",
     "output_type": "stream",
     "text": [
      "Epoch 1/10\n"
     ]
    },
    {
     "name": "stderr",
     "output_type": "stream",
     "text": [
      "c:\\Users\\Thomas\\anaconda3\\lib\\site-packages\\keras\\src\\layers\\rnn\\rnn.py:200: UserWarning: Do not pass an `input_shape`/`input_dim` argument to a layer. When using Sequential models, prefer using an `Input(shape)` object as the first layer in the model instead.\n",
      "  super().__init__(**kwargs)\n"
     ]
    },
    {
     "name": "stdout",
     "output_type": "stream",
     "text": [
      "\u001b[1m25/25\u001b[0m \u001b[32m━━━━━━━━━━━━━━━━━━━━\u001b[0m\u001b[37m\u001b[0m \u001b[1m2s\u001b[0m 7ms/step - loss: 0.2226\n",
      "Epoch 2/10\n",
      "\u001b[1m25/25\u001b[0m \u001b[32m━━━━━━━━━━━━━━━━━━━━\u001b[0m\u001b[37m\u001b[0m \u001b[1m0s\u001b[0m 7ms/step - loss: 0.0736\n",
      "Epoch 3/10\n",
      "\u001b[1m25/25\u001b[0m \u001b[32m━━━━━━━━━━━━━━━━━━━━\u001b[0m\u001b[37m\u001b[0m \u001b[1m0s\u001b[0m 8ms/step - loss: 0.0510\n",
      "Epoch 4/10\n",
      "\u001b[1m25/25\u001b[0m \u001b[32m━━━━━━━━━━━━━━━━━━━━\u001b[0m\u001b[37m\u001b[0m \u001b[1m0s\u001b[0m 7ms/step - loss: 0.0427\n",
      "Epoch 5/10\n",
      "\u001b[1m25/25\u001b[0m \u001b[32m━━━━━━━━━━━━━━━━━━━━\u001b[0m\u001b[37m\u001b[0m \u001b[1m0s\u001b[0m 7ms/step - loss: 0.0380\n",
      "Epoch 6/10\n",
      "\u001b[1m25/25\u001b[0m \u001b[32m━━━━━━━━━━━━━━━━━━━━\u001b[0m\u001b[37m\u001b[0m \u001b[1m0s\u001b[0m 7ms/step - loss: 0.0362\n",
      "Epoch 7/10\n",
      "\u001b[1m25/25\u001b[0m \u001b[32m━━━━━━━━━━━━━━━━━━━━\u001b[0m\u001b[37m\u001b[0m \u001b[1m0s\u001b[0m 7ms/step - loss: 0.0347\n",
      "Epoch 8/10\n",
      "\u001b[1m25/25\u001b[0m \u001b[32m━━━━━━━━━━━━━━━━━━━━\u001b[0m\u001b[37m\u001b[0m \u001b[1m0s\u001b[0m 7ms/step - loss: 0.0349\n",
      "Epoch 9/10\n",
      "\u001b[1m25/25\u001b[0m \u001b[32m━━━━━━━━━━━━━━━━━━━━\u001b[0m\u001b[37m\u001b[0m \u001b[1m0s\u001b[0m 7ms/step - loss: 0.0342\n",
      "Epoch 10/10\n",
      "\u001b[1m25/25\u001b[0m \u001b[32m━━━━━━━━━━━━━━━━━━━━\u001b[0m\u001b[37m\u001b[0m \u001b[1m0s\u001b[0m 7ms/step - loss: 0.0336\n",
      "\u001b[1m9447/9447\u001b[0m \u001b[32m━━━━━━━━━━━━━━━━━━━━\u001b[0m\u001b[37m\u001b[0m \u001b[1m36s\u001b[0m 4ms/step\n",
      "\n",
      "📉 Anomaly threshold (95th percentile): 0.177654\n",
      "🔎 Row 0 | error=0.133358 | csv_index=31539 | timestamp=2025-04-07T02:03:00.000000000\n",
      "🔎 Row 1 | error=0.132195 | csv_index=31540 | timestamp=2025-04-07T02:03:00.000000000\n",
      "🔎 Row 2 | error=0.131025 | csv_index=31541 | timestamp=2025-04-07T02:03:00.000000000\n",
      "🔎 Row 3 | error=0.128924 | csv_index=31542 | timestamp=2025-04-07T02:03:00.000000000\n",
      "🔎 Row 4 | error=0.126247 | csv_index=31543 | timestamp=2025-04-07T02:03:00.000000000\n"
     ]
    },
    {
     "data": {
      "image/png": "[encoded data removed]",
      "text/plain": [
       "<Figure size 864x288 with 1 Axes>"
      ]
     },
     "metadata": {
      "needs_background": "light"
     },
     "output_type": "display_data"
    }
   ],
   "source": [
    "# 6️⃣ Train LSTM\n",
    "model = Sequential([\n",
    "    LSTM(64, activation='relu', input_shape=(X_all.shape[1], X_all.shape[2]), return_sequences=False),\n",
    "    RepeatVector(X_all.shape[1]),\n",
    "    LSTM(64, activation='relu', return_sequences=True),\n",
    "    TimeDistributed(Dense(X_all.shape[2]))\n",
    "])\n",
    "model.compile(optimizer=Adam(1e-3), loss='mse')\n",
    "model.fit(X_train, X_train, epochs=10, batch_size=32, verbose=1)\n",
    "\n",
    "# 7️⃣ Predict & Calculate Error\n",
    "X_pred = model.predict(X_test)\n",
    "errors = np.mean(np.abs(X_pred - X_test), axis=(1, 2))\n",
    "threshold = np.percentile(errors, 95)\n",
    "\n",
    "print(f\"\\n📉 Anomaly threshold (95th percentile): {threshold:.6f}\")\n",
    "for i in range(5):\n",
    "    print(f\"🔎 Row {i} | error={errors[i]:.6f} | csv_index={end_test[i]} | timestamp={df_run.loc[df_run['csv_index'] == end_test[i], 'timestamp'].values[0]}\")\n",
    "\n",
    "# 8️⃣ Plot\n",
    "plt.figure(figsize=(12, 4))\n",
    "plt.plot(end_test, errors, label='Reconstruction Error')\n",
    "plt.axhline(y=threshold, color='r', linestyle='--', label='Threshold')\n",
    "plt.title(\"Multi-Sensor LSTM Anomaly Detection\")\n",
    "plt.xlabel(\"CSV Row Index (end of sequence)\")\n",
    "plt.ylabel(\"Error\")\n",
    "plt.grid(True)\n",
    "plt.legend()\n",
    "plt.tight_layout()\n",
    "plt.show()\n"
   ]
  },
  {
   "cell_type": "code",
   "execution_count": null,
   "id": "6be60fa6",
   "metadata": {},
   "outputs": [],
   "source": []
  }
 ],
 "metadata": {
  "kernelspec": {
   "display_name": "base",
   "language": "python",
   "name": "python3"
  },
  "language_info": {
   "codemirror_mode": {
    "name": "ipython",
    "version": 3
   },
   "file_extension": ".py",
   "mimetype": "text/x-python",
   "name": "python",
   "nbconvert_exporter": "python",
   "pygments_lexer": "ipython3",
   "version": "3.9.12"
  }
 },
 "nbformat": 4,
 "nbformat_minor": 5
}
