{
 "cells": [
  {
   "cell_type": "markdown",
   "id": "a081d891",
   "metadata": {},
   "source": [
    "# 🔍 Incident Classification with Random Forest\n",
    "This notebook trains a Random Forest model on the reshaped multi-sensor dataset to classify incidents like Power Outage, Overheating, and Vibration Increase."
   ]
  },
  {
   "cell_type": "markdown",
   "id": "d787dd44",
   "metadata": {},
   "source": [
    "## 📥 Step 1: Load the Dataset"
   ]
  },
  {
   "cell_type": "code",
   "execution_count": 2,
   "id": "44b8467a",
   "metadata": {},
   "outputs": [
    {
     "data": {
      "text/html": [
       "<div>\n",
       "<style scoped>\n",
       "    .dataframe tbody tr th:only-of-type {\n",
       "        vertical-align: middle;\n",
       "    }\n",
       "\n",
       "    .dataframe tbody tr th {\n",
       "        vertical-align: top;\n",
       "    }\n",
       "\n",
       "    .dataframe thead th {\n",
       "        text-align: right;\n",
       "    }\n",
       "</style>\n",
       "<table border=\"1\" class=\"dataframe\">\n",
       "  <thead>\n",
       "    <tr style=\"text-align: right;\">\n",
       "      <th></th>\n",
       "      <th>timestamp</th>\n",
       "      <th>power</th>\n",
       "      <th>rpm</th>\n",
       "      <th>temperature</th>\n",
       "      <th>vibration</th>\n",
       "      <th>is_anomaly</th>\n",
       "      <th>state</th>\n",
       "      <th>label</th>\n",
       "    </tr>\n",
       "  </thead>\n",
       "  <tbody>\n",
       "    <tr>\n",
       "      <th>0</th>\n",
       "      <td>2025-04-07 00:00:00</td>\n",
       "      <td>5.022329</td>\n",
       "      <td>2.653643</td>\n",
       "      <td>22.0</td>\n",
       "      <td>7.523581</td>\n",
       "      <td>False</td>\n",
       "      <td>off</td>\n",
       "      <td>Normal</td>\n",
       "    </tr>\n",
       "    <tr>\n",
       "      <th>1</th>\n",
       "      <td>2025-04-07 00:01:00</td>\n",
       "      <td>5.077981</td>\n",
       "      <td>2.226890</td>\n",
       "      <td>22.0</td>\n",
       "      <td>7.324660</td>\n",
       "      <td>False</td>\n",
       "      <td>off</td>\n",
       "      <td>Normal</td>\n",
       "    </tr>\n",
       "    <tr>\n",
       "      <th>2</th>\n",
       "      <td>2025-04-07 00:02:00</td>\n",
       "      <td>4.833379</td>\n",
       "      <td>2.293508</td>\n",
       "      <td>22.0</td>\n",
       "      <td>7.432946</td>\n",
       "      <td>False</td>\n",
       "      <td>off</td>\n",
       "      <td>Power_outage</td>\n",
       "    </tr>\n",
       "    <tr>\n",
       "      <th>3</th>\n",
       "      <td>2025-04-07 00:03:00</td>\n",
       "      <td>6.071584</td>\n",
       "      <td>2.802438</td>\n",
       "      <td>22.0</td>\n",
       "      <td>7.827574</td>\n",
       "      <td>False</td>\n",
       "      <td>off</td>\n",
       "      <td>Normal</td>\n",
       "    </tr>\n",
       "    <tr>\n",
       "      <th>4</th>\n",
       "      <td>2025-04-07 00:04:00</td>\n",
       "      <td>4.644964</td>\n",
       "      <td>2.028206</td>\n",
       "      <td>22.0</td>\n",
       "      <td>7.241896</td>\n",
       "      <td>False</td>\n",
       "      <td>off</td>\n",
       "      <td>Power_outage</td>\n",
       "    </tr>\n",
       "  </tbody>\n",
       "</table>\n",
       "</div>"
      ],
      "text/plain": [
       "             timestamp     power       rpm  temperature  vibration  \\\n",
       "0  2025-04-07 00:00:00  5.022329  2.653643         22.0   7.523581   \n",
       "1  2025-04-07 00:01:00  5.077981  2.226890         22.0   7.324660   \n",
       "2  2025-04-07 00:02:00  4.833379  2.293508         22.0   7.432946   \n",
       "3  2025-04-07 00:03:00  6.071584  2.802438         22.0   7.827574   \n",
       "4  2025-04-07 00:04:00  4.644964  2.028206         22.0   7.241896   \n",
       "\n",
       "   is_anomaly state         label  \n",
       "0       False   off        Normal  \n",
       "1       False   off        Normal  \n",
       "2       False   off  Power_outage  \n",
       "3       False   off        Normal  \n",
       "4       False   off  Power_outage  "
      ]
     },
     "execution_count": 2,
     "metadata": {},
     "output_type": "execute_result"
    }
   ],
   "source": [
    "import pandas as pd\n",
    "\n",
    "# Load the reshaped and labeled dataset\n",
    "file_path = \"../test_csv\\motor_monitor_0_reshaped.csv\"  # Adjust path if needed\n",
    "df = pd.read_csv(file_path)\n",
    "df.head()"
   ]
  },
  {
   "cell_type": "markdown",
   "id": "b77f2ef2",
   "metadata": {},
   "source": [
    "## 🧹 Step 2: Preprocessing the Data"
   ]
  },
  {
   "cell_type": "code",
   "execution_count": 3,
   "id": "b2ea50d5",
   "metadata": {},
   "outputs": [
    {
     "data": {
      "text/html": [
       "<div>\n",
       "<style scoped>\n",
       "    .dataframe tbody tr th:only-of-type {\n",
       "        vertical-align: middle;\n",
       "    }\n",
       "\n",
       "    .dataframe tbody tr th {\n",
       "        vertical-align: top;\n",
       "    }\n",
       "\n",
       "    .dataframe thead th {\n",
       "        text-align: right;\n",
       "    }\n",
       "</style>\n",
       "<table border=\"1\" class=\"dataframe\">\n",
       "  <thead>\n",
       "    <tr style=\"text-align: right;\">\n",
       "      <th></th>\n",
       "      <th>power</th>\n",
       "      <th>rpm</th>\n",
       "      <th>temperature</th>\n",
       "      <th>vibration</th>\n",
       "      <th>label</th>\n",
       "      <th>state_idle</th>\n",
       "      <th>state_off</th>\n",
       "      <th>state_run</th>\n",
       "    </tr>\n",
       "  </thead>\n",
       "  <tbody>\n",
       "    <tr>\n",
       "      <th>0</th>\n",
       "      <td>5.022329</td>\n",
       "      <td>2.653643</td>\n",
       "      <td>22.0</td>\n",
       "      <td>7.523581</td>\n",
       "      <td>Normal</td>\n",
       "      <td>0</td>\n",
       "      <td>1</td>\n",
       "      <td>0</td>\n",
       "    </tr>\n",
       "    <tr>\n",
       "      <th>1</th>\n",
       "      <td>5.077981</td>\n",
       "      <td>2.226890</td>\n",
       "      <td>22.0</td>\n",
       "      <td>7.324660</td>\n",
       "      <td>Normal</td>\n",
       "      <td>0</td>\n",
       "      <td>1</td>\n",
       "      <td>0</td>\n",
       "    </tr>\n",
       "    <tr>\n",
       "      <th>2</th>\n",
       "      <td>4.833379</td>\n",
       "      <td>2.293508</td>\n",
       "      <td>22.0</td>\n",
       "      <td>7.432946</td>\n",
       "      <td>Power_outage</td>\n",
       "      <td>0</td>\n",
       "      <td>1</td>\n",
       "      <td>0</td>\n",
       "    </tr>\n",
       "    <tr>\n",
       "      <th>3</th>\n",
       "      <td>6.071584</td>\n",
       "      <td>2.802438</td>\n",
       "      <td>22.0</td>\n",
       "      <td>7.827574</td>\n",
       "      <td>Normal</td>\n",
       "      <td>0</td>\n",
       "      <td>1</td>\n",
       "      <td>0</td>\n",
       "    </tr>\n",
       "    <tr>\n",
       "      <th>4</th>\n",
       "      <td>4.644964</td>\n",
       "      <td>2.028206</td>\n",
       "      <td>22.0</td>\n",
       "      <td>7.241896</td>\n",
       "      <td>Power_outage</td>\n",
       "      <td>0</td>\n",
       "      <td>1</td>\n",
       "      <td>0</td>\n",
       "    </tr>\n",
       "  </tbody>\n",
       "</table>\n",
       "</div>"
      ],
      "text/plain": [
       "      power       rpm  temperature  vibration         label  state_idle  \\\n",
       "0  5.022329  2.653643         22.0   7.523581        Normal           0   \n",
       "1  5.077981  2.226890         22.0   7.324660        Normal           0   \n",
       "2  4.833379  2.293508         22.0   7.432946  Power_outage           0   \n",
       "3  6.071584  2.802438         22.0   7.827574        Normal           0   \n",
       "4  4.644964  2.028206         22.0   7.241896  Power_outage           0   \n",
       "\n",
       "   state_off  state_run  \n",
       "0          1          0  \n",
       "1          1          0  \n",
       "2          1          0  \n",
       "3          1          0  \n",
       "4          1          0  "
      ]
     },
     "execution_count": 3,
     "metadata": {},
     "output_type": "execute_result"
    }
   ],
   "source": [
    "# Drop timestamp and is_anomaly\n",
    "df = df.drop(columns=[\"timestamp\", \"is_anomaly\"])\n",
    "\n",
    "# One-hot encode the 'state' column\n",
    "df = pd.get_dummies(df, columns=[\"state\"])\n",
    "df.head()"
   ]
  },
  {
   "cell_type": "markdown",
   "id": "a8d1f8d0",
   "metadata": {},
   "source": [
    "## 📊 Step 3: Prepare Features and Labels"
   ]
  },
  {
   "cell_type": "code",
   "execution_count": 4,
   "id": "c9e1621b",
   "metadata": {},
   "outputs": [],
   "source": [
    "X = df.drop(\"label\", axis=1)\n",
    "y = df[\"label\"]"
   ]
  },
  {
   "cell_type": "markdown",
   "id": "66c97977",
   "metadata": {},
   "source": [
    "## 🔀 Step 4: Train-Test Split"
   ]
  },
  {
   "cell_type": "code",
   "execution_count": 5,
   "id": "f9a3f0fc",
   "metadata": {},
   "outputs": [],
   "source": [
    "from sklearn.model_selection import train_test_split\n",
    "\n",
    "X_train, X_test, y_train, y_test = train_test_split(\n",
    "    X, y, test_size=0.2, random_state=42, stratify=y\n",
    ")"
   ]
  },
  {
   "cell_type": "markdown",
   "id": "62daae30",
   "metadata": {},
   "source": [
    "## 🧠 Step 5: Train the Random Forest Classifier"
   ]
  },
  {
   "cell_type": "code",
   "execution_count": 6,
   "id": "62a29a06",
   "metadata": {},
   "outputs": [
    {
     "data": {
      "text/plain": [
       "RandomForestClassifier(random_state=42)"
      ]
     },
     "execution_count": 6,
     "metadata": {},
     "output_type": "execute_result"
    }
   ],
   "source": [
    "from sklearn.ensemble import RandomForestClassifier\n",
    "\n",
    "clf = RandomForestClassifier(n_estimators=100, random_state=42)\n",
    "clf.fit(X_train, y_train)"
   ]
  },
  {
   "cell_type": "markdown",
   "id": "b2eabb45",
   "metadata": {},
   "source": [
    "## 📈 Step 6: Evaluate the Model"
   ]
  },
  {
   "cell_type": "code",
   "execution_count": 7,
   "id": "46e36097",
   "metadata": {},
   "outputs": [
    {
     "name": "stdout",
     "output_type": "stream",
     "text": [
      "Classification Report:\n",
      "\n",
      "                    precision    recall  f1-score   support\n",
      "\n",
      "            Normal       1.00      1.00      1.00       279\n",
      "      Power_outage       1.00      1.00      1.00         8\n",
      "Vibration_increase       0.00      0.00      0.00         1\n",
      "\n",
      "          accuracy                           1.00       288\n",
      "         macro avg       0.67      0.67      0.67       288\n",
      "      weighted avg       0.99      1.00      0.99       288\n",
      "\n"
     ]
    },
    {
     "name": "stderr",
     "output_type": "stream",
     "text": [
      "c:\\Users\\Thomas\\anaconda3\\lib\\site-packages\\sklearn\\metrics\\_classification.py:1318: UndefinedMetricWarning: Precision and F-score are ill-defined and being set to 0.0 in labels with no predicted samples. Use `zero_division` parameter to control this behavior.\n",
      "  _warn_prf(average, modifier, msg_start, len(result))\n",
      "c:\\Users\\Thomas\\anaconda3\\lib\\site-packages\\sklearn\\metrics\\_classification.py:1318: UndefinedMetricWarning: Precision and F-score are ill-defined and being set to 0.0 in labels with no predicted samples. Use `zero_division` parameter to control this behavior.\n",
      "  _warn_prf(average, modifier, msg_start, len(result))\n",
      "c:\\Users\\Thomas\\anaconda3\\lib\\site-packages\\sklearn\\metrics\\_classification.py:1318: UndefinedMetricWarning: Precision and F-score are ill-defined and being set to 0.0 in labels with no predicted samples. Use `zero_division` parameter to control this behavior.\n",
      "  _warn_prf(average, modifier, msg_start, len(result))\n"
     ]
    },
    {
     "data": {
      "image/png": "[encoded data removed]",
      "text/plain": [
       "<Figure size 576x432 with 2 Axes>"
      ]
     },
     "metadata": {
      "needs_background": "light"
     },
     "output_type": "display_data"
    }
   ],
   "source": [
    "from sklearn.metrics import classification_report, confusion_matrix\n",
    "import seaborn as sns\n",
    "import matplotlib.pyplot as plt\n",
    "\n",
    "y_pred = clf.predict(X_test)\n",
    "\n",
    "# Classification report\n",
    "print(\"Classification Report:\\n\")\n",
    "print(classification_report(y_test, y_pred))\n",
    "\n",
    "# Confusion matrix\n",
    "plt.figure(figsize=(8, 6))\n",
    "sns.heatmap(confusion_matrix(y_test, y_pred), annot=True, fmt=\"d\", cmap=\"Blues\",\n",
    "            xticklabels=clf.classes_, yticklabels=clf.classes_)\n",
    "plt.xlabel(\"Predicted\")\n",
    "plt.ylabel(\"Actual\")\n",
    "plt.title(\"Confusion Matrix\")\n",
    "plt.tight_layout()\n",
    "plt.show()"
   ]
  },
  {
   "cell_type": "code",
   "execution_count": 8,
   "id": "a32b6759",
   "metadata": {},
   "outputs": [
    {
     "name": "stdout",
     "output_type": "stream",
     "text": [
      "✅ Model saved to: ../test_cases/saved_models/random_forest.pkl\n"
     ]
    }
   ],
   "source": [
    "# 💾 Save the trained model\n",
    "import joblib\n",
    "joblib.dump(clf, \"../test_cases/saved_models/random_forest.pkl\")\n",
    "print(\"✅ Model saved to: ../test_cases/saved_models/random_forest.pkl\")"
   ]
  },
  {
   "cell_type": "code",
   "execution_count": null,
   "id": "e639e214",
   "metadata": {},
   "outputs": [],
   "source": []
  }
 ],
 "metadata": {
  "kernelspec": {
   "display_name": "base",
   "language": "python",
   "name": "python3"
  },
  "language_info": {
   "codemirror_mode": {
    "name": "ipython",
    "version": 3
   },
   "file_extension": ".py",
   "mimetype": "text/x-python",
   "name": "python",
   "nbconvert_exporter": "python",
   "pygments_lexer": "ipython3",
   "version": "3.9.12"
  }
 },
 "nbformat": 4,
 "nbformat_minor": 5
}
