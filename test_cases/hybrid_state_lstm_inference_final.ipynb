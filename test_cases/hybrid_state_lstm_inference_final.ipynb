{
 "cells": [
  {
   "cell_type": "markdown",
   "id": "0e4c747b",
   "metadata": {},
   "source": [
    "# 🔍 Hybrid State-Based LSTM Inference Pipeline"
   ]
  },
  {
   "cell_type": "markdown",
   "id": "e94e289d",
   "metadata": {},
   "source": [
    "This notebook loads separate LSTM models trained per machine state (`run`, `idle`, `off`), runs reconstruction-based anomaly detection, and combines the results across all states."
   ]
  },
  {
   "cell_type": "markdown",
   "id": "fdd60a2f",
   "metadata": {},
   "source": [
    "## 📦 Step 1: Import Libraries"
   ]
  },
  {
   "cell_type": "code",
   "execution_count": 7,
   "id": "40ba3338",
   "metadata": {},
   "outputs": [],
   "source": [
    "\n",
    "import pandas as pd\n",
    "import numpy as np\n",
    "from tensorflow.keras.models import load_model\n",
    "from sklearn.preprocessing import MinMaxScaler\n",
    "import matplotlib.pyplot as plt\n"
   ]
  },
  {
   "cell_type": "markdown",
   "id": "e6e27693",
   "metadata": {},
   "source": [
    "## 📥 Step 2: Load Reshaped Sensor Data"
   ]
  },
  {
   "cell_type": "code",
   "execution_count": 8,
   "id": "6108335b",
   "metadata": {},
   "outputs": [
    {
     "data": {
      "text/html": [
       "<div>\n",
       "<style scoped>\n",
       "    .dataframe tbody tr th:only-of-type {\n",
       "        vertical-align: middle;\n",
       "    }\n",
       "\n",
       "    .dataframe tbody tr th {\n",
       "        vertical-align: top;\n",
       "    }\n",
       "\n",
       "    .dataframe thead th {\n",
       "        text-align: right;\n",
       "    }\n",
       "</style>\n",
       "<table border=\"1\" class=\"dataframe\">\n",
       "  <thead>\n",
       "    <tr style=\"text-align: right;\">\n",
       "      <th></th>\n",
       "      <th>timestamp</th>\n",
       "      <th>power</th>\n",
       "      <th>rpm</th>\n",
       "      <th>temperature</th>\n",
       "      <th>vibration</th>\n",
       "      <th>is_anomaly</th>\n",
       "      <th>state</th>\n",
       "      <th>label</th>\n",
       "    </tr>\n",
       "  </thead>\n",
       "  <tbody>\n",
       "    <tr>\n",
       "      <th>0</th>\n",
       "      <td>2025-04-07 00:00:00</td>\n",
       "      <td>5.022329</td>\n",
       "      <td>2.653643</td>\n",
       "      <td>22.0</td>\n",
       "      <td>7.523581</td>\n",
       "      <td>False</td>\n",
       "      <td>off</td>\n",
       "      <td>Normal</td>\n",
       "    </tr>\n",
       "    <tr>\n",
       "      <th>1</th>\n",
       "      <td>2025-04-07 00:01:00</td>\n",
       "      <td>5.077981</td>\n",
       "      <td>2.226890</td>\n",
       "      <td>22.0</td>\n",
       "      <td>7.324660</td>\n",
       "      <td>False</td>\n",
       "      <td>off</td>\n",
       "      <td>Normal</td>\n",
       "    </tr>\n",
       "    <tr>\n",
       "      <th>2</th>\n",
       "      <td>2025-04-07 00:02:00</td>\n",
       "      <td>4.833379</td>\n",
       "      <td>2.293508</td>\n",
       "      <td>22.0</td>\n",
       "      <td>7.432946</td>\n",
       "      <td>False</td>\n",
       "      <td>off</td>\n",
       "      <td>Power_outage</td>\n",
       "    </tr>\n",
       "    <tr>\n",
       "      <th>3</th>\n",
       "      <td>2025-04-07 00:03:00</td>\n",
       "      <td>6.071584</td>\n",
       "      <td>2.802438</td>\n",
       "      <td>22.0</td>\n",
       "      <td>7.827574</td>\n",
       "      <td>False</td>\n",
       "      <td>off</td>\n",
       "      <td>Normal</td>\n",
       "    </tr>\n",
       "    <tr>\n",
       "      <th>4</th>\n",
       "      <td>2025-04-07 00:04:00</td>\n",
       "      <td>4.644964</td>\n",
       "      <td>2.028206</td>\n",
       "      <td>22.0</td>\n",
       "      <td>7.241896</td>\n",
       "      <td>False</td>\n",
       "      <td>off</td>\n",
       "      <td>Power_outage</td>\n",
       "    </tr>\n",
       "  </tbody>\n",
       "</table>\n",
       "</div>"
      ],
      "text/plain": [
       "            timestamp     power       rpm  temperature  vibration  is_anomaly  \\\n",
       "0 2025-04-07 00:00:00  5.022329  2.653643         22.0   7.523581       False   \n",
       "1 2025-04-07 00:01:00  5.077981  2.226890         22.0   7.324660       False   \n",
       "2 2025-04-07 00:02:00  4.833379  2.293508         22.0   7.432946       False   \n",
       "3 2025-04-07 00:03:00  6.071584  2.802438         22.0   7.827574       False   \n",
       "4 2025-04-07 00:04:00  4.644964  2.028206         22.0   7.241896       False   \n",
       "\n",
       "  state         label  \n",
       "0   off        Normal  \n",
       "1   off        Normal  \n",
       "2   off  Power_outage  \n",
       "3   off        Normal  \n",
       "4   off  Power_outage  "
      ]
     },
     "execution_count": 8,
     "metadata": {},
     "output_type": "execute_result"
    }
   ],
   "source": [
    "\n",
    "df = pd.read_csv(\"../test_csv/motor_monitor_0_reshaped.csv\")\n",
    "df['timestamp'] = pd.to_datetime(df['timestamp'])\n",
    "df.head()\n"
   ]
  },
  {
   "cell_type": "markdown",
   "id": "df044034",
   "metadata": {},
   "source": [
    "## 🧰 Step 3: Utility Functions"
   ]
  },
  {
   "cell_type": "code",
   "execution_count": 9,
   "id": "f99084ca",
   "metadata": {},
   "outputs": [],
   "source": [
    "\n",
    "def sliding_windows(data, seq_length=30):\n",
    "    return np.array([data.iloc[i:(i + seq_length)].values for i in range(len(data) - seq_length)])\n",
    "\n",
    "def detect_anomalies(df_subset, model_path, feature_cols, threshold_percentile=95):\n",
    "    scaler = MinMaxScaler()\n",
    "    scaled = scaler.fit_transform(df_subset[feature_cols])\n",
    "    sequences = sliding_windows(pd.DataFrame(scaled))\n",
    "    if len(sequences) == 0:\n",
    "        return pd.Series([False] * len(df_subset))\n",
    "    \n",
    "    model = load_model(model_path, compile=False)\n",
    "    reconstructions = model.predict(sequences)\n",
    "    loss = np.mean((reconstructions - sequences) ** 2, axis=(1, 2))\n",
    "    threshold = np.percentile(loss, threshold_percentile)\n",
    "    \n",
    "    # create anomaly flags aligned with original dataframe\n",
    "    flags = np.array([False] * len(df_subset))\n",
    "    flags[30:len(loss)+30] = loss > threshold\n",
    "    return pd.Series(flags, index=df_subset.index)\n"
   ]
  },
  {
   "cell_type": "markdown",
   "id": "6a826931",
   "metadata": {},
   "source": [
    "## 🧠 Step 4: Run Anomaly Detection Per State"
   ]
  },
  {
   "cell_type": "code",
   "execution_count": 10,
   "id": "646241f1",
   "metadata": {},
   "outputs": [
    {
     "name": "stdout",
     "output_type": "stream",
     "text": [
      "Processing state: run\n",
      "\u001b[1m37/37\u001b[0m \u001b[32m━━━━━━━━━━━━━━━━━━━━\u001b[0m\u001b[37m\u001b[0m \u001b[1m1s\u001b[0m 10ms/step\n",
      "Processing state: idle\n",
      "\u001b[1m3/3\u001b[0m \u001b[32m━━━━━━━━━━━━━━━━━━━━\u001b[0m\u001b[37m\u001b[0m \u001b[1m1s\u001b[0m 133ms/step\n",
      "Processing state: off\n",
      "\u001b[1m4/4\u001b[0m \u001b[32m━━━━━━━━━━━━━━━━━━━━\u001b[0m\u001b[37m\u001b[0m \u001b[1m1s\u001b[0m 93ms/step\n"
     ]
    }
   ],
   "source": [
    "\n",
    "df['is_anomaly'] = False\n",
    "feature_cols = ['power', 'rpm', 'temperature', 'vibration']\n",
    "\n",
    "state_model_map = {\n",
    "    'run': \"../test_cases/saved_models/lstm_run.h5\",\n",
    "    'idle': \"../test_cases/saved_models/lstm_idle.h5\",\n",
    "    'off': \"../test_cases/saved_models/lstm_off.h5\"\n",
    "}\n",
    "\n",
    "for state, model_path in state_model_map.items():\n",
    "    print(f\"Processing state: {state}\")\n",
    "    df_state = df[df['state'] == state].copy()\n",
    "    df.loc[df_state.index, 'is_anomaly'] = detect_anomalies(df_state, model_path, feature_cols)\n"
   ]
  },
  {
   "cell_type": "markdown",
   "id": "46403ed5",
   "metadata": {},
   "source": [
    "## 📊 Step 5: Review or Save Results"
   ]
  },
  {
   "cell_type": "code",
   "execution_count": 12,
   "id": "f275127d",
   "metadata": {},
   "outputs": [
    {
     "name": "stdout",
     "output_type": "stream",
     "text": [
      "Anomaly counts by state:\n",
      "state\n",
      "idle     4\n",
      "off      6\n",
      "run     58\n",
      "Name: is_anomaly, dtype: int64\n"
     ]
    }
   ],
   "source": [
    "\n",
    "print(\"Anomaly counts by state:\")\n",
    "print(df.groupby('state')['is_anomaly'].sum())\n",
    "\n",
    "# Optionally, save results\n",
    "df.to_csv(\"../test_cases/results/results_state_lstm_inference.csv\", index=False)\n"
   ]
  },
  {
   "cell_type": "markdown",
   "id": "457133a4",
   "metadata": {},
   "source": [
    "## 🤖 Step 6: Classify Anomalies Using Random Forest"
   ]
  },
  {
   "cell_type": "code",
   "execution_count": 13,
   "id": "ae7f0ad9",
   "metadata": {},
   "outputs": [
    {
     "name": "stdout",
     "output_type": "stream",
     "text": [
      "🔍 Classification Report (for detected anomalies):\n",
      "                    precision    recall  f1-score   support\n",
      "\n",
      "            Normal       0.98      1.00      0.99        63\n",
      "      Power_outage       1.00      1.00      1.00         1\n",
      "Vibration_increase       1.00      0.75      0.86         4\n",
      "\n",
      "          accuracy                           0.99        68\n",
      "         macro avg       0.99      0.92      0.95        68\n",
      "      weighted avg       0.99      0.99      0.98        68\n",
      "\n"
     ]
    },
    {
     "name": "stderr",
     "output_type": "stream",
     "text": [
      "c:\\Users\\Thomas\\anaconda3\\lib\\site-packages\\sklearn\\base.py:493: FutureWarning: The feature names should match those that were passed during fit. Starting version 1.2, an error will be raised.\n",
      "Feature names must be in the same order as they were in fit.\n",
      "\n",
      "  warnings.warn(message, FutureWarning)\n"
     ]
    }
   ],
   "source": [
    "\n",
    "import joblib\n",
    "from sklearn.metrics import classification_report\n",
    "\n",
    "# Load trained Random Forest model\n",
    "rf_model = joblib.load(\"../test_cases/saved_models/random_forest.pkl\")\n",
    "\n",
    "# One-hot encode 'state' again to match training format\n",
    "df_encoded = pd.get_dummies(df, columns=[\"state\"])\n",
    "for col in [\"state_off\", \"state_run\", \"state_idle\"]:\n",
    "    if col not in df_encoded.columns:\n",
    "        df_encoded[col] = 0\n",
    "\n",
    "# Filter anomaly rows\n",
    "anomaly_df = df_encoded[df_encoded[\"is_anomaly\"] == True].copy()\n",
    "\n",
    "# Features used by the Random Forest model\n",
    "features = ['power', 'rpm', 'temperature', 'vibration', 'state_off', 'state_run', 'state_idle']\n",
    "\n",
    "# Check if label exists for evaluation\n",
    "if 'label' in anomaly_df.columns:\n",
    "    X_anomaly = anomaly_df[features]\n",
    "    y_true = anomaly_df['label']\n",
    "    y_pred = rf_model.predict(X_anomaly)\n",
    "\n",
    "    print(\"🔍 Classification Report (for detected anomalies):\")\n",
    "    print(classification_report(y_true, y_pred))\n",
    "else:\n",
    "    print(\"⚠️ 'label' column not found in data. Cannot compute classification report.\")\n"
   ]
  },
  {
   "cell_type": "code",
   "execution_count": null,
   "id": "945ab4d4",
   "metadata": {},
   "outputs": [],
   "source": []
  },
  {
   "cell_type": "code",
   "execution_count": null,
   "id": "46a7b177",
   "metadata": {},
   "outputs": [],
   "source": []
  }
 ],
 "metadata": {
  "kernelspec": {
   "display_name": "base",
   "language": "python",
   "name": "python3"
  },
  "language_info": {
   "codemirror_mode": {
    "name": "ipython",
    "version": 3
   },
   "file_extension": ".py",
   "mimetype": "text/x-python",
   "name": "python",
   "nbconvert_exporter": "python",
   "pygments_lexer": "ipython3",
   "version": "3.9.12"
  }
 },
 "nbformat": 4,
 "nbformat_minor": 5
}
