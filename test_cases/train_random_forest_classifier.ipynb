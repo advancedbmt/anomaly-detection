{
 "cells": [
  {
   "cell_type": "markdown",
   "id": "42e34803",
   "metadata": {},
   "source": [
    "# Random Forest Classifier Training\n",
    "Train a Random Forest Classifier on detected anomalies."
   ]
  },
  {
   "cell_type": "markdown",
   "id": "829da31a",
   "metadata": {},
   "source": [
    "## Step 1: Import Libraries\n",
    "Import all necessary libraries for model training and evaluation."
   ]
  },
  {
   "cell_type": "code",
   "execution_count": null,
   "id": "1362d08a",
   "metadata": {},
   "outputs": [],
   "source": [
    "\n",
    "import pandas as pd\n",
    "import numpy as np\n",
    "from sklearn.model_selection import train_test_split\n",
    "from sklearn.ensemble import RandomForestClassifier\n",
    "from sklearn.metrics import classification_report\n",
    "import joblib\n",
    "import os\n",
    "\n",
    "# Assume `all_results` dictionary already exists from anomaly detection\n",
    "    "
   ]
  },
  {
   "cell_type": "markdown",
   "id": "b12fa7f1",
   "metadata": {},
   "source": [
    "## Step 2: Prepare the Dataset\n",
    "Merge all processed devices into a single DataFrame."
   ]
  },
  {
   "cell_type": "code",
   "execution_count": null,
   "id": "f6b9502d",
   "metadata": {},
   "outputs": [],
   "source": [
    "\n",
    "# Merge all processed device DataFrames\n",
    "combined_df = pd.concat(all_results.values(), ignore_index=True)\n",
    "\n",
    "# Drop rows with missing values\n",
    "combined_df = combined_df.dropna()\n",
    "\n",
    "# Features (exclude non-sensor columns)\n",
    "EXCLUDE_FEATURES = ['timestamp', 'reconstruction_error', 'is_anomaly', 'label']\n",
    "features = [col for col in combined_df.columns if col not in EXCLUDE_FEATURES]\n",
    "X = combined_df[features]\n",
    "y = combined_df['is_anomaly'].astype(int)  # Target label: 0 = normal, 1 = anomaly\n",
    "    "
   ]
  },
  {
   "cell_type": "markdown",
   "id": "62464d66",
   "metadata": {},
   "source": [
    "## Step 3: Train-Test Split\n",
    "Split into training and testing datasets."
   ]
  },
  {
   "cell_type": "code",
   "execution_count": null,
   "id": "0fe9458c",
   "metadata": {},
   "outputs": [],
   "source": [
    "\n",
    "X_train, X_test, y_train, y_test = train_test_split(\n",
    "    X, y, test_size=0.2, random_state=42, stratify=y\n",
    ")\n",
    "    "
   ]
  },
  {
   "cell_type": "markdown",
   "id": "1c21f482",
   "metadata": {},
   "source": [
    "## Step 4: Train Random Forest Model\n",
    "Initialize and fit the classifier."
   ]
  },
  {
   "cell_type": "code",
   "execution_count": null,
   "id": "1b818519",
   "metadata": {},
   "outputs": [],
   "source": [
    "\n",
    "# Initialize Random Forest Classifier\n",
    "rf_classifier = RandomForestClassifier(\n",
    "    n_estimators=100,\n",
    "    max_depth=None,\n",
    "    random_state=42,\n",
    "    n_jobs=-1\n",
    ")\n",
    "\n",
    "# Train the classifier\n",
    "rf_classifier.fit(X_train, y_train)\n",
    "    "
   ]
  },
  {
   "cell_type": "markdown",
   "id": "24558614",
   "metadata": {},
   "source": [
    "## Step 5: Evaluate the Model\n",
    "Predict and print classification metrics."
   ]
  },
  {
   "cell_type": "code",
   "execution_count": null,
   "id": "1cf8a74a",
   "metadata": {},
   "outputs": [],
   "source": [
    "\n",
    "# Predict on the test set\n",
    "y_pred = rf_classifier.predict(X_test)\n",
    "\n",
    "# Print evaluation report\n",
    "print(\"Classification Report:\")\n",
    "print(classification_report(y_test, y_pred, digits=4))\n",
    "    "
   ]
  },
  {
   "cell_type": "markdown",
   "id": "60edd02a",
   "metadata": {},
   "source": [
    "## Step 6: Save the Model\n",
    "Save the trained classifier to disk using Joblib."
   ]
  },
  {
   "cell_type": "code",
   "execution_count": null,
   "id": "49b2c1a8",
   "metadata": {},
   "outputs": [],
   "source": [
    "\n",
    "# Create save directory if it doesn't exist\n",
    "SAVE_DIR = \"../test_cases/saved_models/\"\n",
    "os.makedirs(SAVE_DIR, exist_ok=True)\n",
    "\n",
    "# Save model to file\n",
    "model_path = os.path.join(SAVE_DIR, \"random_forest_anomaly_classifier.pkl\")\n",
    "joblib.dump(rf_classifier, model_path)\n",
    "\n",
    "print(f\"✅ Model saved successfully to: {model_path}\")\n",
    "    "
   ]
  }
 ],
 "metadata": {},
 "nbformat": 4,
 "nbformat_minor": 5
}
