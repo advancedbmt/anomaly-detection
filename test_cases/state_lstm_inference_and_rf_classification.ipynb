{
 "cells": [
  {
   "cell_type": "markdown",
   "id": "92308592",
   "metadata": {},
   "source": [
    "# 🔍 Inference with Saved State-LSTM + Random Forest Classification"
   ]
  },
  {
   "cell_type": "markdown",
   "id": "639ed267",
   "metadata": {},
   "source": [
    "This notebook loads previously saved state-based LSTM models, detects anomalies, and classifies the detected anomalies using a pre-trained Random Forest model."
   ]
  },
  {
   "cell_type": "markdown",
   "id": "c86e3da2",
   "metadata": {},
   "source": [
    "## 📦 Step 1: Import Libraries"
   ]
  },
  {
   "cell_type": "code",
   "execution_count": 10,
   "id": "d0d53ae5",
   "metadata": {},
   "outputs": [],
   "source": [
    "\n",
    "import pandas as pd\n",
    "import numpy as np\n",
    "from sklearn.preprocessing import MinMaxScaler\n",
    "from sklearn.metrics import classification_report\n",
    "import joblib\n",
    "from tensorflow.keras.models import load_model\n"
   ]
  },
  {
   "cell_type": "markdown",
   "id": "ecaa633c",
   "metadata": {},
   "source": [
    "## 📥 Step 2: Load and Prepare Reshaped Data"
   ]
  },
  {
   "cell_type": "code",
   "execution_count": 11,
   "id": "21021f94",
   "metadata": {},
   "outputs": [
    {
     "data": {
      "text/html": [
       "<div>\n",
       "<style scoped>\n",
       "    .dataframe tbody tr th:only-of-type {\n",
       "        vertical-align: middle;\n",
       "    }\n",
       "\n",
       "    .dataframe tbody tr th {\n",
       "        vertical-align: top;\n",
       "    }\n",
       "\n",
       "    .dataframe thead th {\n",
       "        text-align: right;\n",
       "    }\n",
       "</style>\n",
       "<table border=\"1\" class=\"dataframe\">\n",
       "  <thead>\n",
       "    <tr style=\"text-align: right;\">\n",
       "      <th></th>\n",
       "      <th>timestamp</th>\n",
       "      <th>power</th>\n",
       "      <th>rpm</th>\n",
       "      <th>temperature</th>\n",
       "      <th>vibration</th>\n",
       "      <th>is_anomaly</th>\n",
       "      <th>state</th>\n",
       "      <th>label</th>\n",
       "    </tr>\n",
       "  </thead>\n",
       "  <tbody>\n",
       "    <tr>\n",
       "      <th>0</th>\n",
       "      <td>2025-04-07 00:00:00</td>\n",
       "      <td>5.022329</td>\n",
       "      <td>2.653643</td>\n",
       "      <td>22.0</td>\n",
       "      <td>7.523581</td>\n",
       "      <td>False</td>\n",
       "      <td>off</td>\n",
       "      <td>Normal</td>\n",
       "    </tr>\n",
       "    <tr>\n",
       "      <th>1</th>\n",
       "      <td>2025-04-07 00:01:00</td>\n",
       "      <td>5.077981</td>\n",
       "      <td>2.226890</td>\n",
       "      <td>22.0</td>\n",
       "      <td>7.324660</td>\n",
       "      <td>False</td>\n",
       "      <td>off</td>\n",
       "      <td>Normal</td>\n",
       "    </tr>\n",
       "    <tr>\n",
       "      <th>2</th>\n",
       "      <td>2025-04-07 00:02:00</td>\n",
       "      <td>4.833379</td>\n",
       "      <td>2.293508</td>\n",
       "      <td>22.0</td>\n",
       "      <td>7.432946</td>\n",
       "      <td>False</td>\n",
       "      <td>off</td>\n",
       "      <td>Power_outage</td>\n",
       "    </tr>\n",
       "    <tr>\n",
       "      <th>3</th>\n",
       "      <td>2025-04-07 00:03:00</td>\n",
       "      <td>6.071584</td>\n",
       "      <td>2.802438</td>\n",
       "      <td>22.0</td>\n",
       "      <td>7.827574</td>\n",
       "      <td>False</td>\n",
       "      <td>off</td>\n",
       "      <td>Normal</td>\n",
       "    </tr>\n",
       "    <tr>\n",
       "      <th>4</th>\n",
       "      <td>2025-04-07 00:04:00</td>\n",
       "      <td>4.644964</td>\n",
       "      <td>2.028206</td>\n",
       "      <td>22.0</td>\n",
       "      <td>7.241896</td>\n",
       "      <td>False</td>\n",
       "      <td>off</td>\n",
       "      <td>Power_outage</td>\n",
       "    </tr>\n",
       "  </tbody>\n",
       "</table>\n",
       "</div>"
      ],
      "text/plain": [
       "            timestamp     power       rpm  temperature  vibration  is_anomaly  \\\n",
       "0 2025-04-07 00:00:00  5.022329  2.653643         22.0   7.523581       False   \n",
       "1 2025-04-07 00:01:00  5.077981  2.226890         22.0   7.324660       False   \n",
       "2 2025-04-07 00:02:00  4.833379  2.293508         22.0   7.432946       False   \n",
       "3 2025-04-07 00:03:00  6.071584  2.802438         22.0   7.827574       False   \n",
       "4 2025-04-07 00:04:00  4.644964  2.028206         22.0   7.241896       False   \n",
       "\n",
       "  state         label  \n",
       "0   off        Normal  \n",
       "1   off        Normal  \n",
       "2   off  Power_outage  \n",
       "3   off        Normal  \n",
       "4   off  Power_outage  "
      ]
     },
     "execution_count": 11,
     "metadata": {},
     "output_type": "execute_result"
    }
   ],
   "source": [
    "\n",
    "df = pd.read_csv(\"../test_csv/motor_monitor_0_reshaped.csv\")\n",
    "df['timestamp'] = pd.to_datetime(df['timestamp'])\n",
    "df.head()\n"
   ]
  },
  {
   "cell_type": "markdown",
   "id": "1753b696",
   "metadata": {},
   "source": [
    "## ⚙️ Step 3: Define Sliding Window Anomaly Detector"
   ]
  },
  {
   "cell_type": "code",
   "execution_count": 12,
   "id": "bbd5ec79",
   "metadata": {},
   "outputs": [],
   "source": [
    "\n",
    "def create_sequences(data, seq_length=30):\n",
    "    return np.array([data.iloc[i:i+seq_length].values for i in range(len(data)-seq_length)])\n",
    "\n",
    "def detect_state_anomalies(df_state, model_path, feature_cols):\n",
    "    scaler = MinMaxScaler()\n",
    "    scaled = scaler.fit_transform(df_state[feature_cols])\n",
    "    sequences = create_sequences(pd.DataFrame(scaled))\n",
    "    \n",
    "    model = load_model(model_path, compile=False)\n",
    "    reconstructions = model.predict(sequences)\n",
    "    errors = np.mean((reconstructions - sequences[:, -reconstructions.shape[1]:, :]) ** 2, axis=(1, 2))\n",
    "    \n",
    "    threshold = np.percentile(errors, 95)\n",
    "    print(f\"Threshold for {model_path}: {threshold:.6f}\")\n",
    "    \n",
    "    flags = np.array([False] * len(df_state))\n",
    "    flags[30:len(errors)+30] = errors > threshold\n",
    "    df_state['reconstruction_error'] = [0.0]*30 + errors.tolist()\n",
    "    df_state['is_anomaly'] = flags\n",
    "    return df_state\n"
   ]
  },
  {
   "cell_type": "markdown",
   "id": "735ca3ce",
   "metadata": {},
   "source": [
    "## 🧠 Step 4: Apply Detection by State"
   ]
  },
  {
   "cell_type": "code",
   "execution_count": 13,
   "id": "ea6fe9de",
   "metadata": {},
   "outputs": [
    {
     "name": "stdout",
     "output_type": "stream",
     "text": [
      "\u001b[1m4/4\u001b[0m \u001b[32m━━━━━━━━━━━━━━━━━━━━\u001b[0m\u001b[37m\u001b[0m \u001b[1m1s\u001b[0m 90ms/step\n",
      "Threshold for ../test_cases/saved_models/lstm_off.h5: 0.047103\n",
      "\u001b[1m3/3\u001b[0m \u001b[32m━━━━━━━━━━━━━━━━━━━━\u001b[0m\u001b[37m\u001b[0m \u001b[1m1s\u001b[0m 135ms/step\n",
      "Threshold for ../test_cases/saved_models/lstm_idle.h5: 0.048351\n",
      "\u001b[1m37/37\u001b[0m \u001b[32m━━━━━━━━━━━━━━━━━━━━\u001b[0m\u001b[37m\u001b[0m \u001b[1m1s\u001b[0m 11ms/step\n",
      "Threshold for ../test_cases/saved_models/lstm_run.h5: 298.217598\n"
     ]
    }
   ],
   "source": [
    "\n",
    "df_all = pd.DataFrame()\n",
    "feature_cols = ['power', 'rpm', 'temperature', 'vibration']\n",
    "model_paths = {\n",
    "    'run': \"../test_cases/saved_models/lstm_run.h5\",\n",
    "    'idle': \"../test_cases/saved_models/lstm_idle.h5\",\n",
    "    'off': \"../test_cases/saved_models/lstm_off.h5\"\n",
    "}\n",
    "\n",
    "for state in df['state'].unique():\n",
    "    df_state = df[df['state'] == state].copy()\n",
    "    model_path = model_paths.get(state)\n",
    "    if model_path:\n",
    "        df_state = detect_state_anomalies(df_state, model_path, feature_cols)\n",
    "        df_all = pd.concat([df_all, df_state])\n",
    "df = df_all.sort_values('timestamp').reset_index(drop=True)\n"
   ]
  },
  {
   "cell_type": "markdown",
   "id": "5397d301",
   "metadata": {},
   "source": [
    "## 🤖 Step 5: Classify Detected Anomalies with Random Forest"
   ]
  },
  {
   "cell_type": "code",
   "execution_count": 14,
   "id": "c356f683",
   "metadata": {},
   "outputs": [
    {
     "name": "stdout",
     "output_type": "stream",
     "text": [
      "🔍 Classification Report (for detected anomalies):\n",
      "              precision    recall  f1-score   support\n",
      "\n",
      "      Normal       1.00      1.00      1.00        67\n",
      "Power_outage       1.00      1.00      1.00         1\n",
      "\n",
      "    accuracy                           1.00        68\n",
      "   macro avg       1.00      1.00      1.00        68\n",
      "weighted avg       1.00      1.00      1.00        68\n",
      "\n"
     ]
    },
    {
     "name": "stderr",
     "output_type": "stream",
     "text": [
      "c:\\Users\\Thomas\\anaconda3\\lib\\site-packages\\sklearn\\base.py:493: FutureWarning: The feature names should match those that were passed during fit. Starting version 1.2, an error will be raised.\n",
      "Feature names must be in the same order as they were in fit.\n",
      "\n",
      "  warnings.warn(message, FutureWarning)\n"
     ]
    }
   ],
   "source": [
    "\n",
    "# One-hot encode state to match training\n",
    "df_encoded = pd.get_dummies(df, columns=[\"state\"])\n",
    "for col in [\"state_off\", \"state_run\", \"state_idle\"]:\n",
    "    if col not in df_encoded.columns:\n",
    "        df_encoded[col] = 0\n",
    "\n",
    "# Load RF model\n",
    "rf_model = joblib.load(\"../test_cases/saved_models/random_forest.pkl\")\n",
    "\n",
    "# Filter anomaly rows\n",
    "anomaly_df = df_encoded[df_encoded[\"is_anomaly\"] == True].copy()\n",
    "features = ['power', 'rpm', 'temperature', 'vibration', 'state_off', 'state_run', 'state_idle']\n",
    "\n",
    "# Evaluate\n",
    "if 'label' in anomaly_df.columns:\n",
    "    X_anomaly = anomaly_df[features]\n",
    "    y_true = anomaly_df['label']\n",
    "    y_pred = rf_model.predict(X_anomaly)\n",
    "    \n",
    "    print(\"🔍 Classification Report (for detected anomalies):\")\n",
    "    print(classification_report(y_true, y_pred))\n",
    "else:\n",
    "    print(\"⚠️ 'label' column not found. Cannot compute classification report.\")\n"
   ]
  },
  {
   "cell_type": "code",
   "execution_count": null,
   "id": "e34bdeca",
   "metadata": {},
   "outputs": [],
   "source": []
  }
 ],
 "metadata": {
  "kernelspec": {
   "display_name": "base",
   "language": "python",
   "name": "python3"
  },
  "language_info": {
   "codemirror_mode": {
    "name": "ipython",
    "version": 3
   },
   "file_extension": ".py",
   "mimetype": "text/x-python",
   "name": "python",
   "nbconvert_exporter": "python",
   "pygments_lexer": "ipython3",
   "version": "3.9.12"
  }
 },
 "nbformat": 4,
 "nbformat_minor": 5
}
