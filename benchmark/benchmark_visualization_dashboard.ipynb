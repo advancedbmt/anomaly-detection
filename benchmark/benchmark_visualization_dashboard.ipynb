{
 "cells": [
  {
   "cell_type": "markdown",
   "id": "b9ae3ef7",
   "metadata": {},
   "source": [
    "# 📊 Benchmark Visualization Dashboard\n",
    "This notebook visualizes metrics collected from anomaly detection benchmark runs."
   ]
  },
  {
   "cell_type": "code",
   "execution_count": 1,
   "id": "905899aa",
   "metadata": {},
   "outputs": [
    {
     "data": {
      "text/html": [
       "<div>\n",
       "<style scoped>\n",
       "    .dataframe tbody tr th:only-of-type {\n",
       "        vertical-align: middle;\n",
       "    }\n",
       "\n",
       "    .dataframe tbody tr th {\n",
       "        vertical-align: top;\n",
       "    }\n",
       "\n",
       "    .dataframe thead th {\n",
       "        text-align: right;\n",
       "    }\n",
       "</style>\n",
       "<table border=\"1\" class=\"dataframe\">\n",
       "  <thead>\n",
       "    <tr style=\"text-align: right;\">\n",
       "      <th></th>\n",
       "      <th>timestamp</th>\n",
       "      <th>test_case_id</th>\n",
       "      <th>device_type</th>\n",
       "      <th>csv_file</th>\n",
       "      <th>inference_time_ms</th>\n",
       "      <th>cpu_percent</th>\n",
       "      <th>memory_mb</th>\n",
       "      <th>disk_read_mb</th>\n",
       "      <th>disk_write_mb</th>\n",
       "    </tr>\n",
       "  </thead>\n",
       "  <tbody>\n",
       "    <tr>\n",
       "      <th>0</th>\n",
       "      <td>2025-05-01 11:58:02.819175</td>\n",
       "      <td>1</td>\n",
       "      <td>motor_monitor</td>\n",
       "      <td>motor_monitor_0_unified.csv</td>\n",
       "      <td>3878.08</td>\n",
       "      <td>9.15</td>\n",
       "      <td>12891.52</td>\n",
       "      <td>0.0156</td>\n",
       "      <td>0.5039</td>\n",
       "    </tr>\n",
       "    <tr>\n",
       "      <th>1</th>\n",
       "      <td>2025-05-01 11:58:15.420698</td>\n",
       "      <td>1</td>\n",
       "      <td>bale_counter</td>\n",
       "      <td>bale_counter_0_unified.csv</td>\n",
       "      <td>12599.62</td>\n",
       "      <td>54.40</td>\n",
       "      <td>13319.26</td>\n",
       "      <td>0.0977</td>\n",
       "      <td>1.5859</td>\n",
       "    </tr>\n",
       "    <tr>\n",
       "      <th>2</th>\n",
       "      <td>2025-05-01 11:58:23.790176</td>\n",
       "      <td>1</td>\n",
       "      <td>motor_monitor</td>\n",
       "      <td>motor_monitor_0_unified.csv</td>\n",
       "      <td>8368.43</td>\n",
       "      <td>2.30</td>\n",
       "      <td>13311.90</td>\n",
       "      <td>0.0039</td>\n",
       "      <td>0.5742</td>\n",
       "    </tr>\n",
       "    <tr>\n",
       "      <th>3</th>\n",
       "      <td>2025-05-01 11:58:38.335249</td>\n",
       "      <td>1</td>\n",
       "      <td>bale_counter</td>\n",
       "      <td>bale_counter_0_unified.csv</td>\n",
       "      <td>14542.07</td>\n",
       "      <td>1.80</td>\n",
       "      <td>12825.61</td>\n",
       "      <td>0.0273</td>\n",
       "      <td>1.3438</td>\n",
       "    </tr>\n",
       "    <tr>\n",
       "      <th>4</th>\n",
       "      <td>2025-05-01 11:58:44.798224</td>\n",
       "      <td>1</td>\n",
       "      <td>motor_monitor</td>\n",
       "      <td>motor_monitor_0_unified.csv</td>\n",
       "      <td>6460.87</td>\n",
       "      <td>2.15</td>\n",
       "      <td>12852.77</td>\n",
       "      <td>0.0625</td>\n",
       "      <td>2.5391</td>\n",
       "    </tr>\n",
       "  </tbody>\n",
       "</table>\n",
       "</div>"
      ],
      "text/plain": [
       "                   timestamp  test_case_id    device_type  \\\n",
       "0 2025-05-01 11:58:02.819175             1  motor_monitor   \n",
       "1 2025-05-01 11:58:15.420698             1   bale_counter   \n",
       "2 2025-05-01 11:58:23.790176             1  motor_monitor   \n",
       "3 2025-05-01 11:58:38.335249             1   bale_counter   \n",
       "4 2025-05-01 11:58:44.798224             1  motor_monitor   \n",
       "\n",
       "                      csv_file  inference_time_ms  cpu_percent  memory_mb  \\\n",
       "0  motor_monitor_0_unified.csv            3878.08         9.15   12891.52   \n",
       "1   bale_counter_0_unified.csv           12599.62        54.40   13319.26   \n",
       "2  motor_monitor_0_unified.csv            8368.43         2.30   13311.90   \n",
       "3   bale_counter_0_unified.csv           14542.07         1.80   12825.61   \n",
       "4  motor_monitor_0_unified.csv            6460.87         2.15   12852.77   \n",
       "\n",
       "   disk_read_mb  disk_write_mb  \n",
       "0        0.0156         0.5039  \n",
       "1        0.0977         1.5859  \n",
       "2        0.0039         0.5742  \n",
       "3        0.0273         1.3438  \n",
       "4        0.0625         2.5391  "
      ]
     },
     "execution_count": 1,
     "metadata": {},
     "output_type": "execute_result"
    }
   ],
   "source": [
    "import pandas as pd\n",
    "import matplotlib.pyplot as plt\n",
    "import seaborn as sns\n",
    "import os\n",
    "\n",
    "# Load the cleaned benchmark metrics\n",
    "df = pd.read_csv('benchmark_metrics_clean.csv')\n",
    "df['timestamp'] = pd.to_datetime(df['timestamp'])\n",
    "df.head()"
   ]
  },
  {
   "cell_type": "markdown",
   "id": "73f6da5a",
   "metadata": {},
   "source": [
    "## 📈 Group by Test Case and Device Type"
   ]
  },
  {
   "cell_type": "code",
   "execution_count": 2,
   "id": "aeec18a8",
   "metadata": {},
   "outputs": [
    {
     "data": {
      "text/html": [
       "<div>\n",
       "<style scoped>\n",
       "    .dataframe tbody tr th:only-of-type {\n",
       "        vertical-align: middle;\n",
       "    }\n",
       "\n",
       "    .dataframe tbody tr th {\n",
       "        vertical-align: top;\n",
       "    }\n",
       "\n",
       "    .dataframe thead th {\n",
       "        text-align: right;\n",
       "    }\n",
       "</style>\n",
       "<table border=\"1\" class=\"dataframe\">\n",
       "  <thead>\n",
       "    <tr style=\"text-align: right;\">\n",
       "      <th></th>\n",
       "      <th>test_case_id</th>\n",
       "      <th>device_type</th>\n",
       "      <th>inference_time_ms_mean</th>\n",
       "      <th>inference_time_ms_max</th>\n",
       "      <th>inference_time_ms_min</th>\n",
       "      <th>inference_time_ms_std</th>\n",
       "      <th>cpu_percent_mean</th>\n",
       "      <th>cpu_percent_max</th>\n",
       "      <th>cpu_percent_min</th>\n",
       "      <th>cpu_percent_std</th>\n",
       "      <th>memory_mb_mean</th>\n",
       "      <th>memory_mb_max</th>\n",
       "      <th>memory_mb_min</th>\n",
       "      <th>memory_mb_std</th>\n",
       "      <th>disk_read_mb_mean</th>\n",
       "      <th>disk_write_mb_mean</th>\n",
       "    </tr>\n",
       "  </thead>\n",
       "  <tbody>\n",
       "    <tr>\n",
       "      <th>0</th>\n",
       "      <td>1</td>\n",
       "      <td>bale_counter</td>\n",
       "      <td>8839.925333</td>\n",
       "      <td>14542.07</td>\n",
       "      <td>6782.39</td>\n",
       "      <td>997.074875</td>\n",
       "      <td>3.014167</td>\n",
       "      <td>54.40</td>\n",
       "      <td>1.40</td>\n",
       "      <td>7.197946</td>\n",
       "      <td>12877.452000</td>\n",
       "      <td>13319.26</td>\n",
       "      <td>12770.39</td>\n",
       "      <td>83.560649</td>\n",
       "      <td>0.247847</td>\n",
       "      <td>3.890498</td>\n",
       "    </tr>\n",
       "    <tr>\n",
       "      <th>1</th>\n",
       "      <td>1</td>\n",
       "      <td>motor_monitor</td>\n",
       "      <td>3583.015833</td>\n",
       "      <td>8368.43</td>\n",
       "      <td>3271.89</td>\n",
       "      <td>745.525236</td>\n",
       "      <td>2.717500</td>\n",
       "      <td>10.65</td>\n",
       "      <td>2.05</td>\n",
       "      <td>1.512934</td>\n",
       "      <td>12873.659500</td>\n",
       "      <td>13311.90</td>\n",
       "      <td>12755.32</td>\n",
       "      <td>86.704367</td>\n",
       "      <td>0.103075</td>\n",
       "      <td>1.256005</td>\n",
       "    </tr>\n",
       "    <tr>\n",
       "      <th>2</th>\n",
       "      <td>2</td>\n",
       "      <td>bale_counter</td>\n",
       "      <td>9331.233167</td>\n",
       "      <td>19631.79</td>\n",
       "      <td>8228.28</td>\n",
       "      <td>1952.190115</td>\n",
       "      <td>1.879167</td>\n",
       "      <td>9.25</td>\n",
       "      <td>1.15</td>\n",
       "      <td>1.028752</td>\n",
       "      <td>13098.915000</td>\n",
       "      <td>13692.55</td>\n",
       "      <td>12862.58</td>\n",
       "      <td>173.640386</td>\n",
       "      <td>0.149223</td>\n",
       "      <td>3.988410</td>\n",
       "    </tr>\n",
       "    <tr>\n",
       "      <th>3</th>\n",
       "      <td>2</td>\n",
       "      <td>motor_monitor</td>\n",
       "      <td>3596.164111</td>\n",
       "      <td>8709.32</td>\n",
       "      <td>3335.22</td>\n",
       "      <td>668.391370</td>\n",
       "      <td>2.940278</td>\n",
       "      <td>52.40</td>\n",
       "      <td>1.50</td>\n",
       "      <td>3.888172</td>\n",
       "      <td>13105.080333</td>\n",
       "      <td>13743.12</td>\n",
       "      <td>12847.82</td>\n",
       "      <td>177.200107</td>\n",
       "      <td>0.213808</td>\n",
       "      <td>1.602583</td>\n",
       "    </tr>\n",
       "  </tbody>\n",
       "</table>\n",
       "</div>"
      ],
      "text/plain": [
       "   test_case_id    device_type  inference_time_ms_mean  inference_time_ms_max  \\\n",
       "0             1   bale_counter             8839.925333               14542.07   \n",
       "1             1  motor_monitor             3583.015833                8368.43   \n",
       "2             2   bale_counter             9331.233167               19631.79   \n",
       "3             2  motor_monitor             3596.164111                8709.32   \n",
       "\n",
       "   inference_time_ms_min  inference_time_ms_std  cpu_percent_mean  \\\n",
       "0                6782.39             997.074875          3.014167   \n",
       "1                3271.89             745.525236          2.717500   \n",
       "2                8228.28            1952.190115          1.879167   \n",
       "3                3335.22             668.391370          2.940278   \n",
       "\n",
       "   cpu_percent_max  cpu_percent_min  cpu_percent_std  memory_mb_mean  \\\n",
       "0            54.40             1.40         7.197946    12877.452000   \n",
       "1            10.65             2.05         1.512934    12873.659500   \n",
       "2             9.25             1.15         1.028752    13098.915000   \n",
       "3            52.40             1.50         3.888172    13105.080333   \n",
       "\n",
       "   memory_mb_max  memory_mb_min  memory_mb_std  disk_read_mb_mean  \\\n",
       "0       13319.26       12770.39      83.560649           0.247847   \n",
       "1       13311.90       12755.32      86.704367           0.103075   \n",
       "2       13692.55       12862.58     173.640386           0.149223   \n",
       "3       13743.12       12847.82     177.200107           0.213808   \n",
       "\n",
       "   disk_write_mb_mean  \n",
       "0            3.890498  \n",
       "1            1.256005  \n",
       "2            3.988410  \n",
       "3            1.602583  "
      ]
     },
     "execution_count": 2,
     "metadata": {},
     "output_type": "execute_result"
    }
   ],
   "source": [
    "grouped = df.groupby(['test_case_id', 'device_type']).agg({\n",
    "    'inference_time_ms': ['mean', 'max', 'min', 'std'],\n",
    "    'cpu_percent': ['mean', 'max', 'min', 'std'],\n",
    "    'memory_mb': ['mean', 'max', 'min', 'std'],\n",
    "    'disk_read_mb': ['mean'],\n",
    "    'disk_write_mb': ['mean']\n",
    "}).reset_index()\n",
    "grouped.columns = ['_'.join(col).strip('_') for col in grouped.columns.values]\n",
    "grouped.head()"
   ]
  },
  {
   "cell_type": "markdown",
   "id": "bdcd11a7",
   "metadata": {},
   "source": [
    "## 📊 Inference Time per Device Type"
   ]
  },
  {
   "cell_type": "code",
   "execution_count": 3,
   "id": "cb75716b",
   "metadata": {},
   "outputs": [
    {
     "data": {
      "image/png": "[encoded data removed]",
      "text/plain": [
       "<Figure size 864x432 with 1 Axes>"
      ]
     },
     "metadata": {
      "needs_background": "light"
     },
     "output_type": "display_data"
    }
   ],
   "source": [
    "plt.figure(figsize=(12,6))\n",
    "sns.barplot(data=grouped, x='test_case_id', y='inference_time_ms_mean', hue='device_type')\n",
    "plt.title('Average Inference Time per Device Type')\n",
    "plt.ylabel('Inference Time (ms)')\n",
    "plt.xlabel('Test Case ID')\n",
    "plt.legend(title='Device Type')\n",
    "plt.grid(True)\n",
    "plt.tight_layout()\n",
    "plt.show()"
   ]
  },
  {
   "cell_type": "markdown",
   "id": "71036f1f",
   "metadata": {},
   "source": [
    "## 📊 CPU and Memory Usage"
   ]
  },
  {
   "cell_type": "code",
   "execution_count": 4,
   "id": "a1e0d034",
   "metadata": {},
   "outputs": [
    {
     "data": {
      "image/png": "[encoded data removed]",
      "text/plain": [
       "<Figure size 1152x432 with 2 Axes>"
      ]
     },
     "metadata": {
      "needs_background": "light"
     },
     "output_type": "display_data"
    }
   ],
   "source": [
    "fig, axes = plt.subplots(1, 2, figsize=(16,6))\n",
    "sns.barplot(data=grouped, x='test_case_id', y='cpu_percent_mean', hue='device_type', ax=axes[0])\n",
    "axes[0].set_title('Avg CPU Usage (%)')\n",
    "axes[0].grid(True)\n",
    "sns.barplot(data=grouped, x='test_case_id', y='memory_mb_mean', hue='device_type', ax=axes[1])\n",
    "axes[1].set_title('Avg Memory Usage (MB)')\n",
    "axes[1].grid(True)\n",
    "plt.tight_layout()\n",
    "plt.show()"
   ]
  },
  {
   "cell_type": "markdown",
   "id": "16fbdd77",
   "metadata": {},
   "source": [
    "## 💾 Disk Read/Write"
   ]
  },
  {
   "cell_type": "code",
   "execution_count": 5,
   "id": "4349d2ee",
   "metadata": {},
   "outputs": [
    {
     "data": {
      "image/png": "[encoded data removed]",
      "text/plain": [
       "<Figure size 864x432 with 1 Axes>"
      ]
     },
     "metadata": {
      "needs_background": "light"
     },
     "output_type": "display_data"
    }
   ],
   "source": [
    "plt.figure(figsize=(12,6))\n",
    "sns.barplot(data=grouped, x='test_case_id', y='disk_write_mb_mean', hue='device_type')\n",
    "plt.title('Average Disk Write per Device')\n",
    "plt.ylabel('Disk Write (MB)')\n",
    "plt.grid(True)\n",
    "plt.tight_layout()\n",
    "plt.show()"
   ]
  }
 ],
 "metadata": {
  "kernelspec": {
   "display_name": "base",
   "language": "python",
   "name": "python3"
  },
  "language_info": {
   "codemirror_mode": {
    "name": "ipython",
    "version": 3
   },
   "file_extension": ".py",
   "mimetype": "text/x-python",
   "name": "python",
   "nbconvert_exporter": "python",
   "pygments_lexer": "ipython3",
   "version": "3.9.12"
  }
 },
 "nbformat": 4,
 "nbformat_minor": 5
}
