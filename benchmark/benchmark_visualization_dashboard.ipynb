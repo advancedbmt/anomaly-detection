{
 "cells": [
  {
   "cell_type": "markdown",
   "id": "b9ae3ef7",
   "metadata": {},
   "source": [
    "# 📊 Benchmark Visualization Dashboard\n",
    "This notebook visualizes metrics collected from anomaly detection benchmark runs."
   ]
  },
  {
   "cell_type": "code",
   "execution_count": 1,
   "id": "905899aa",
   "metadata": {},
   "outputs": [
    {
     "data": {
      "text/html": [
       "<div>\n",
       "<style scoped>\n",
       "    .dataframe tbody tr th:only-of-type {\n",
       "        vertical-align: middle;\n",
       "    }\n",
       "\n",
       "    .dataframe tbody tr th {\n",
       "        vertical-align: top;\n",
       "    }\n",
       "\n",
       "    .dataframe thead th {\n",
       "        text-align: right;\n",
       "    }\n",
       "</style>\n",
       "<table border=\"1\" class=\"dataframe\">\n",
       "  <thead>\n",
       "    <tr style=\"text-align: right;\">\n",
       "      <th></th>\n",
       "      <th>timestamp</th>\n",
       "      <th>test_case_id</th>\n",
       "      <th>device_type</th>\n",
       "      <th>csv_file</th>\n",
       "      <th>inference_time_ms</th>\n",
       "      <th>cpu_percent</th>\n",
       "      <th>memory_mb</th>\n",
       "      <th>disk_read_mb</th>\n",
       "      <th>disk_write_mb</th>\n",
       "    </tr>\n",
       "  </thead>\n",
       "  <tbody>\n",
       "    <tr>\n",
       "      <th>0</th>\n",
       "      <td>2025-05-01 12:56:29.963104</td>\n",
       "      <td>1</td>\n",
       "      <td>motor_monitor</td>\n",
       "      <td>motor_monitor_0_unified.csv</td>\n",
       "      <td>3533.31</td>\n",
       "      <td>5.15</td>\n",
       "      <td>13624.68</td>\n",
       "      <td>0.0625</td>\n",
       "      <td>0.7539</td>\n",
       "    </tr>\n",
       "    <tr>\n",
       "      <th>1</th>\n",
       "      <td>2025-05-01 12:56:36.888401</td>\n",
       "      <td>1</td>\n",
       "      <td>bale_counter</td>\n",
       "      <td>bale_counter_0_unified.csv</td>\n",
       "      <td>6922.59</td>\n",
       "      <td>2.10</td>\n",
       "      <td>13702.41</td>\n",
       "      <td>0.0156</td>\n",
       "      <td>0.8242</td>\n",
       "    </tr>\n",
       "    <tr>\n",
       "      <th>2</th>\n",
       "      <td>2025-05-01 12:56:43.732273</td>\n",
       "      <td>1</td>\n",
       "      <td>output_sensor</td>\n",
       "      <td>output_sensor_0_unified.csv</td>\n",
       "      <td>6842.35</td>\n",
       "      <td>2.05</td>\n",
       "      <td>13670.56</td>\n",
       "      <td>0.0312</td>\n",
       "      <td>1.3164</td>\n",
       "    </tr>\n",
       "    <tr>\n",
       "      <th>3</th>\n",
       "      <td>2025-05-01 12:56:51.235347</td>\n",
       "      <td>1</td>\n",
       "      <td>temperature_sensor</td>\n",
       "      <td>temperature_sensor_0_unified.csv</td>\n",
       "      <td>7501.10</td>\n",
       "      <td>2.35</td>\n",
       "      <td>13828.19</td>\n",
       "      <td>2.2578</td>\n",
       "      <td>18.5547</td>\n",
       "    </tr>\n",
       "    <tr>\n",
       "      <th>4</th>\n",
       "      <td>2025-05-01 12:56:54.494801</td>\n",
       "      <td>1</td>\n",
       "      <td>motor_monitor</td>\n",
       "      <td>motor_monitor_0_unified.csv</td>\n",
       "      <td>3257.02</td>\n",
       "      <td>2.20</td>\n",
       "      <td>13834.81</td>\n",
       "      <td>0.0625</td>\n",
       "      <td>6.2070</td>\n",
       "    </tr>\n",
       "  </tbody>\n",
       "</table>\n",
       "</div>"
      ],
      "text/plain": [
       "                   timestamp  test_case_id         device_type  \\\n",
       "0 2025-05-01 12:56:29.963104             1       motor_monitor   \n",
       "1 2025-05-01 12:56:36.888401             1        bale_counter   \n",
       "2 2025-05-01 12:56:43.732273             1       output_sensor   \n",
       "3 2025-05-01 12:56:51.235347             1  temperature_sensor   \n",
       "4 2025-05-01 12:56:54.494801             1       motor_monitor   \n",
       "\n",
       "                           csv_file  inference_time_ms  cpu_percent  \\\n",
       "0       motor_monitor_0_unified.csv            3533.31         5.15   \n",
       "1        bale_counter_0_unified.csv            6922.59         2.10   \n",
       "2       output_sensor_0_unified.csv            6842.35         2.05   \n",
       "3  temperature_sensor_0_unified.csv            7501.10         2.35   \n",
       "4       motor_monitor_0_unified.csv            3257.02         2.20   \n",
       "\n",
       "   memory_mb  disk_read_mb  disk_write_mb  \n",
       "0   13624.68        0.0625         0.7539  \n",
       "1   13702.41        0.0156         0.8242  \n",
       "2   13670.56        0.0312         1.3164  \n",
       "3   13828.19        2.2578        18.5547  \n",
       "4   13834.81        0.0625         6.2070  "
      ]
     },
     "execution_count": 1,
     "metadata": {},
     "output_type": "execute_result"
    }
   ],
   "source": [
    "import pandas as pd\n",
    "import matplotlib.pyplot as plt\n",
    "import seaborn as sns\n",
    "import os\n",
    "\n",
    "# Load the cleaned benchmark metrics\n",
    "df = pd.read_csv('benchmark_metrics_clean.csv')\n",
    "df['timestamp'] = pd.to_datetime(df['timestamp'])\n",
    "df.head()"
   ]
  },
  {
   "cell_type": "markdown",
   "id": "73f6da5a",
   "metadata": {},
   "source": [
    "## 📈 Group by Test Case and Device Type"
   ]
  },
  {
   "cell_type": "code",
   "execution_count": 2,
   "id": "aeec18a8",
   "metadata": {},
   "outputs": [
    {
     "data": {
      "text/html": [
       "<div>\n",
       "<style scoped>\n",
       "    .dataframe tbody tr th:only-of-type {\n",
       "        vertical-align: middle;\n",
       "    }\n",
       "\n",
       "    .dataframe tbody tr th {\n",
       "        vertical-align: top;\n",
       "    }\n",
       "\n",
       "    .dataframe thead th {\n",
       "        text-align: right;\n",
       "    }\n",
       "</style>\n",
       "<table border=\"1\" class=\"dataframe\">\n",
       "  <thead>\n",
       "    <tr style=\"text-align: right;\">\n",
       "      <th></th>\n",
       "      <th>test_case_id</th>\n",
       "      <th>device_type</th>\n",
       "      <th>inference_time_ms_mean</th>\n",
       "      <th>inference_time_ms_max</th>\n",
       "      <th>inference_time_ms_min</th>\n",
       "      <th>inference_time_ms_std</th>\n",
       "      <th>cpu_percent_mean</th>\n",
       "      <th>cpu_percent_max</th>\n",
       "      <th>cpu_percent_min</th>\n",
       "      <th>cpu_percent_std</th>\n",
       "      <th>memory_mb_mean</th>\n",
       "      <th>memory_mb_max</th>\n",
       "      <th>memory_mb_min</th>\n",
       "      <th>memory_mb_std</th>\n",
       "      <th>disk_read_mb_mean</th>\n",
       "      <th>disk_write_mb_mean</th>\n",
       "    </tr>\n",
       "  </thead>\n",
       "  <tbody>\n",
       "    <tr>\n",
       "      <th>0</th>\n",
       "      <td>1</td>\n",
       "      <td>bale_counter</td>\n",
       "      <td>12417.946230</td>\n",
       "      <td>20960.91</td>\n",
       "      <td>6756.39</td>\n",
       "      <td>5214.753297</td>\n",
       "      <td>1.972541</td>\n",
       "      <td>10.15</td>\n",
       "      <td>1.40</td>\n",
       "      <td>1.056172</td>\n",
       "      <td>7217.246475</td>\n",
       "      <td>14064.05</td>\n",
       "      <td>569.13</td>\n",
       "      <td>6617.010611</td>\n",
       "      <td>1.635239</td>\n",
       "      <td>5.042746</td>\n",
       "    </tr>\n",
       "    <tr>\n",
       "      <th>1</th>\n",
       "      <td>1</td>\n",
       "      <td>motor_monitor</td>\n",
       "      <td>6128.819344</td>\n",
       "      <td>10990.64</td>\n",
       "      <td>3213.67</td>\n",
       "      <td>3046.411906</td>\n",
       "      <td>3.201639</td>\n",
       "      <td>52.05</td>\n",
       "      <td>1.90</td>\n",
       "      <td>5.003288</td>\n",
       "      <td>7218.932541</td>\n",
       "      <td>14041.03</td>\n",
       "      <td>501.18</td>\n",
       "      <td>6625.162314</td>\n",
       "      <td>0.068762</td>\n",
       "      <td>2.238951</td>\n",
       "    </tr>\n",
       "    <tr>\n",
       "      <th>2</th>\n",
       "      <td>1</td>\n",
       "      <td>output_sensor</td>\n",
       "      <td>12472.309508</td>\n",
       "      <td>22054.86</td>\n",
       "      <td>6842.35</td>\n",
       "      <td>5484.345279</td>\n",
       "      <td>2.018033</td>\n",
       "      <td>8.85</td>\n",
       "      <td>1.45</td>\n",
       "      <td>1.049932</td>\n",
       "      <td>7217.153852</td>\n",
       "      <td>14097.31</td>\n",
       "      <td>556.22</td>\n",
       "      <td>6619.728377</td>\n",
       "      <td>3.746207</td>\n",
       "      <td>9.542070</td>\n",
       "    </tr>\n",
       "    <tr>\n",
       "      <th>3</th>\n",
       "      <td>1</td>\n",
       "      <td>temperature_sensor</td>\n",
       "      <td>12539.724545</td>\n",
       "      <td>23547.01</td>\n",
       "      <td>7008.81</td>\n",
       "      <td>5589.999451</td>\n",
       "      <td>2.054545</td>\n",
       "      <td>18.40</td>\n",
       "      <td>1.40</td>\n",
       "      <td>1.740857</td>\n",
       "      <td>7276.998512</td>\n",
       "      <td>14069.94</td>\n",
       "      <td>583.56</td>\n",
       "      <td>6621.453626</td>\n",
       "      <td>0.230638</td>\n",
       "      <td>8.414674</td>\n",
       "    </tr>\n",
       "    <tr>\n",
       "      <th>4</th>\n",
       "      <td>2</td>\n",
       "      <td>bale_counter</td>\n",
       "      <td>10686.944083</td>\n",
       "      <td>19101.83</td>\n",
       "      <td>7346.71</td>\n",
       "      <td>4206.080350</td>\n",
       "      <td>2.079167</td>\n",
       "      <td>8.85</td>\n",
       "      <td>1.50</td>\n",
       "      <td>1.080180</td>\n",
       "      <td>7503.478917</td>\n",
       "      <td>14320.73</td>\n",
       "      <td>812.30</td>\n",
       "      <td>6623.386854</td>\n",
       "      <td>0.155750</td>\n",
       "      <td>4.453997</td>\n",
       "    </tr>\n",
       "  </tbody>\n",
       "</table>\n",
       "</div>"
      ],
      "text/plain": [
       "   test_case_id         device_type  inference_time_ms_mean  \\\n",
       "0             1        bale_counter            12417.946230   \n",
       "1             1       motor_monitor             6128.819344   \n",
       "2             1       output_sensor            12472.309508   \n",
       "3             1  temperature_sensor            12539.724545   \n",
       "4             2        bale_counter            10686.944083   \n",
       "\n",
       "   inference_time_ms_max  inference_time_ms_min  inference_time_ms_std  \\\n",
       "0               20960.91                6756.39            5214.753297   \n",
       "1               10990.64                3213.67            3046.411906   \n",
       "2               22054.86                6842.35            5484.345279   \n",
       "3               23547.01                7008.81            5589.999451   \n",
       "4               19101.83                7346.71            4206.080350   \n",
       "\n",
       "   cpu_percent_mean  cpu_percent_max  cpu_percent_min  cpu_percent_std  \\\n",
       "0          1.972541            10.15             1.40         1.056172   \n",
       "1          3.201639            52.05             1.90         5.003288   \n",
       "2          2.018033             8.85             1.45         1.049932   \n",
       "3          2.054545            18.40             1.40         1.740857   \n",
       "4          2.079167             8.85             1.50         1.080180   \n",
       "\n",
       "   memory_mb_mean  memory_mb_max  memory_mb_min  memory_mb_std  \\\n",
       "0     7217.246475       14064.05         569.13    6617.010611   \n",
       "1     7218.932541       14041.03         501.18    6625.162314   \n",
       "2     7217.153852       14097.31         556.22    6619.728377   \n",
       "3     7276.998512       14069.94         583.56    6621.453626   \n",
       "4     7503.478917       14320.73         812.30    6623.386854   \n",
       "\n",
       "   disk_read_mb_mean  disk_write_mb_mean  \n",
       "0           1.635239            5.042746  \n",
       "1           0.068762            2.238951  \n",
       "2           3.746207            9.542070  \n",
       "3           0.230638            8.414674  \n",
       "4           0.155750            4.453997  "
      ]
     },
     "execution_count": 2,
     "metadata": {},
     "output_type": "execute_result"
    }
   ],
   "source": [
    "grouped = df.groupby(['test_case_id', 'device_type']).agg({\n",
    "    'inference_time_ms': ['mean', 'max', 'min', 'std'],\n",
    "    'cpu_percent': ['mean', 'max', 'min', 'std'],\n",
    "    'memory_mb': ['mean', 'max', 'min', 'std'],\n",
    "    'disk_read_mb': ['mean'],\n",
    "    'disk_write_mb': ['mean']\n",
    "}).reset_index()\n",
    "grouped.columns = ['_'.join(col).strip('_') for col in grouped.columns.values]\n",
    "grouped.head()"
   ]
  },
  {
   "cell_type": "markdown",
   "id": "bdcd11a7",
   "metadata": {},
   "source": [
    "## 📊 Inference Time per Device Type"
   ]
  },
  {
   "cell_type": "code",
   "execution_count": 3,
   "id": "cb75716b",
   "metadata": {},
   "outputs": [
    {
     "data": {
      "image/png": "[encoded data removed]",
      "text/plain": [
       "<Figure size 864x432 with 1 Axes>"
      ]
     },
     "metadata": {
      "needs_background": "light"
     },
     "output_type": "display_data"
    }
   ],
   "source": [
    "plt.figure(figsize=(12,6))\n",
    "sns.barplot(data=grouped, x='test_case_id', y='inference_time_ms_mean', hue='device_type')\n",
    "plt.title('Average Inference Time per Device Type')\n",
    "plt.ylabel('Inference Time (ms)')\n",
    "plt.xlabel('Test Case ID')\n",
    "plt.legend(title='Device Type')\n",
    "plt.grid(True)\n",
    "plt.tight_layout()\n",
    "plt.show()"
   ]
  },
  {
   "cell_type": "markdown",
   "id": "71036f1f",
   "metadata": {},
   "source": [
    "## 📊 CPU and Memory Usage"
   ]
  },
  {
   "cell_type": "code",
   "execution_count": 4,
   "id": "a1e0d034",
   "metadata": {},
   "outputs": [
    {
     "data": {
      "image/png": "[encoded data removed]",
      "text/plain": [
       "<Figure size 1152x432 with 2 Axes>"
      ]
     },
     "metadata": {
      "needs_background": "light"
     },
     "output_type": "display_data"
    }
   ],
   "source": [
    "fig, axes = plt.subplots(1, 2, figsize=(16,6))\n",
    "sns.barplot(data=grouped, x='test_case_id', y='cpu_percent_mean', hue='device_type', ax=axes[0])\n",
    "axes[0].set_title('Avg CPU Usage (%)')\n",
    "axes[0].grid(True)\n",
    "sns.barplot(data=grouped, x='test_case_id', y='memory_mb_mean', hue='device_type', ax=axes[1])\n",
    "axes[1].set_title('Avg Memory Usage (MB)')\n",
    "axes[1].grid(True)\n",
    "plt.tight_layout()\n",
    "plt.show()"
   ]
  },
  {
   "cell_type": "markdown",
   "id": "16fbdd77",
   "metadata": {},
   "source": [
    "## 💾 Disk Read/Write"
   ]
  },
  {
   "cell_type": "code",
   "execution_count": 5,
   "id": "4349d2ee",
   "metadata": {},
   "outputs": [
    {
     "data": {
      "image/png": "[encoded data removed]",
      "text/plain": [
       "<Figure size 864x432 with 1 Axes>"
      ]
     },
     "metadata": {
      "needs_background": "light"
     },
     "output_type": "display_data"
    }
   ],
   "source": [
    "plt.figure(figsize=(12,6))\n",
    "sns.barplot(data=grouped, x='test_case_id', y='disk_write_mb_mean', hue='device_type')\n",
    "plt.title('Average Disk Write per Device')\n",
    "plt.ylabel('Disk Write (MB)')\n",
    "plt.grid(True)\n",
    "plt.tight_layout()\n",
    "plt.show()"
   ]
  },
  {
   "cell_type": "code",
   "execution_count": null,
   "id": "1026c69f",
   "metadata": {},
   "outputs": [],
   "source": []
  },
  {
   "cell_type": "code",
   "execution_count": null,
   "id": "37678e95",
   "metadata": {},
   "outputs": [],
   "source": []
  }
 ],
 "metadata": {
  "kernelspec": {
   "display_name": "base",
   "language": "python",
   "name": "python3"
  },
  "language_info": {
   "codemirror_mode": {
    "name": "ipython",
    "version": 3
   },
   "file_extension": ".py",
   "mimetype": "text/x-python",
   "name": "python",
   "nbconvert_exporter": "python",
   "pygments_lexer": "ipython3",
   "version": "3.9.12"
  }
 },
 "nbformat": 4,
 "nbformat_minor": 5
}
